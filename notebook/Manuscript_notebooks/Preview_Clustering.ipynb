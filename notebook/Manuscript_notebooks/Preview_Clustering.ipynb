{
 "cells": [
  {
   "cell_type": "markdown",
   "metadata": {},
   "source": [
    "# scCODEX preview - Clustering"
   ]
  },
  {
   "cell_type": "code",
   "execution_count": null,
   "metadata": {},
   "outputs": [],
   "source": [
    "# inspect which markers work, and drop the ones that did not work from the clustering step\n",
    "# make an anndata to be compatiable with the downstream clustering step\n",
    "adata = hf_makeAnndata(df_nn = df_nn,\n",
    "                       col_sum = 41, # this is the column index that has the last protein feature\n",
    "                       nonFuncAb_list = ['GranzymeB', 'Tbet','PD-L1', 'PD1', 'IDO-I', 'ICOS'] # remove the antibodies that are not working\n",
    "                      )\n",
    "adata"
   ]
  },
  {
   "cell_type": "code",
   "execution_count": null,
   "metadata": {},
   "outputs": [],
   "source": [
    "# no need to reassign the adata\n",
    "tl_clustering(adata, \n",
    "              clustering='leiden', # can choose louvian\n",
    "              n_neighbors=10,\n",
    "              res = 1,\n",
    "              reclustering = False # if true, no computing the neighbors\n",
    "             ) \n",
    "adata"
   ]
  },
  {
   "cell_type": "code",
   "execution_count": null,
   "metadata": {},
   "outputs": [],
   "source": [
    "# visualization of clustering with UMAP\n",
    "sc.pl.umap(adata, color = 'leiden_1') "
   ]
  },
  {
   "cell_type": "code",
   "execution_count": null,
   "metadata": {},
   "outputs": [],
   "source": [
    "#reclustering with different resolution\n",
    "tl_clustering(adata, \n",
    "              clustering='leiden', # can choose Louvain\n",
    "              n_neighbors=10,\n",
    "              res = 0.4,\n",
    "              reclustering = True # if true, no recomputing the neighbors\n",
    "             )\n",
    "sc.pl.umap(adata, color = 'leiden_0.4', legend_loc=\"on data\")"
   ]
  },
  {
   "cell_type": "code",
   "execution_count": null,
   "metadata": {},
   "outputs": [],
   "source": [
    "#look at the marker gene expression\n",
    "sc.pl.dotplot(adata, adata.var.index.to_list(), 'leiden_0.4')"
   ]
  },
  {
   "cell_type": "code",
   "execution_count": null,
   "metadata": {},
   "outputs": [],
   "source": [
    "# Plot data using its original spatial coordinates\n",
    "df_nn['leiden_0.4'] = adata.obs['leiden_0.4']\n",
    "ax = sns.scatterplot(x='x', y='y', data=df_nn, hue='leiden_0.4', s=1, alpha=0.5)\n",
    "ax.legend(bbox_to_anchor=(1.05, 1), loc='upper left', borderaxespad=0)\n",
    "ax.invert_yaxis()"
   ]
  },
  {
   "cell_type": "code",
   "execution_count": null,
   "metadata": {},
   "outputs": [],
   "source": [
    "old_to_new = {\n",
    "    '0': 'Epithelial',\n",
    "    '1': 'Stromal/blood vessels',\n",
    "    '2': 'Stroma', \n",
    "    '3': 'Blood vessels',\n",
    "    '4': 'Proliferating stroma',\n",
    "    '5': 'M2 macrophage',\n",
    "    '6': 'Early exhausted CD8 T cells',\n",
    "    '7': \"Overexposed junk\",\n",
    "    '8': 'monocyte/macrophage?',\n",
    "    '9': 'Plasma cells',\n",
    "    '10': 'Lymphatics',\n",
    "    '11': 'Treg',\n",
    "    '12': 'CD4+ (memory) T cells',\n",
    "    '13': \"DC\",\n",
    "    '14': 'Epithelial',\n",
    "    '15': 'Neutrophil'\n",
    "}\n",
    "adata.obs['celltype'] = (\n",
    "    adata.obs['leiden_0.4']\n",
    "    .map(old_to_new)\n",
    "    .astype('category')\n",
    ")"
   ]
  },
  {
   "cell_type": "code",
   "execution_count": null,
   "metadata": {},
   "outputs": [],
   "source": [
    "df_nn['celltype'] = adata.obs['celltype'].values"
   ]
  },
  {
   "cell_type": "code",
   "execution_count": null,
   "metadata": {},
   "outputs": [],
   "source": [
    "pl_mono_cluster_spatial(df=df_nn, sample_col='region_num', cluster_col='leiden_0.4', figsize=(20, 20))"
   ]
  },
  {
   "cell_type": "markdown",
   "metadata": {},
   "source": [
    "## Sub-clustering"
   ]
  },
  {
   "cell_type": "code",
   "execution_count": null,
   "metadata": {},
   "outputs": [],
   "source": [
    "# subclustering cluster 0\n",
    "sc.tl.leiden(adata, restrict_to=('leiden_0.4',['0']), resolution=0.13, key_added='leiden_0.4_subcluster_0')\n",
    "sc.pl.umap(adata, color = 'leiden_0.4_subcluster_0')"
   ]
  },
  {
   "cell_type": "code",
   "execution_count": null,
   "metadata": {},
   "outputs": [],
   "source": [
    "sc.pl.dotplot(adata, adata.var.index.to_list(), 'leiden_0.4_subcluster_0')"
   ]
  },
  {
   "cell_type": "markdown",
   "metadata": {},
   "source": [
    "## Save anndata"
   ]
  },
  {
   "cell_type": "code",
   "execution_count": null,
   "metadata": {},
   "outputs": [],
   "source": [
    "adata.write(output_dir+\"NBT_230223_70129_adata.h5ad\")"
   ]
  }
 ],
 "metadata": {
  "language_info": {
   "name": "python"
  },
  "orig_nbformat": 4
 },
 "nbformat": 4,
 "nbformat_minor": 2
}
