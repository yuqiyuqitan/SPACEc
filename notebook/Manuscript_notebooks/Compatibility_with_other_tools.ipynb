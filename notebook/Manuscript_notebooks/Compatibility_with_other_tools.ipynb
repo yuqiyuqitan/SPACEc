{
 "cells": [
  {
   "cell_type": "markdown",
   "metadata": {},
   "source": [
    "# Compatibility with other packages"
   ]
  },
  {
   "cell_type": "code",
   "execution_count": 1,
   "metadata": {},
   "outputs": [],
   "source": [
    "import anndata as ad\n",
    "import pandas as pd\n",
    "import numpy as np\n",
    "import time\n",
    "import sys"
   ]
  },
  {
   "cell_type": "code",
   "execution_count": 2,
   "metadata": {},
   "outputs": [],
   "source": [
    "sys.path.append('/Users/timnoahkempchen/Desktop/SAP5/src') # This code is only needed if you want to load functions from a non-default directory\n",
    "\n",
    "from helperfunctions_hf import * # Helper functions - used by other functions to execute steps like table formatting etc. KEY: hf\n",
    "from preprocessing_pp import * # Preprocessing functions - to normalize and prepare data for further analysis KEY: pp\n",
    "from tools_tl import * # tools - perform calculation on the data KEY: tl\n",
    "from plot_pl import * # plotting functions - used to visualize results KEY: pl"
   ]
  },
  {
   "cell_type": "code",
   "execution_count": 3,
   "metadata": {},
   "outputs": [
    {
     "name": "stderr",
     "output_type": "stream",
     "text": [
      "/Users/timnoahkempchen/opt/anaconda3/envs/spatial_analysis_environment/lib/python3.10/site-packages/anndata/_core/anndata.py:121: ImplicitModificationWarning: Transforming to str index.\n",
      "  warnings.warn(\"Transforming to str index.\", ImplicitModificationWarning)\n"
     ]
    }
   ],
   "source": [
    "input_dir = '/Volumes/Tim_D260/Projects/Stanford_scCODEX/Test_dfs/'\n",
    "# Load data\n",
    "adata = ad.read_h5ad(input_dir+\"adata_HuBMAP_subset_with_celltype.h5ad\")"
   ]
  },
  {
   "cell_type": "code",
   "execution_count": 6,
   "metadata": {},
   "outputs": [],
   "source": [
    "adata_sqy = tl_format_for_squidpy(adata, x_col = \"x\", y_col = \"y\")"
   ]
  },
  {
   "cell_type": "code",
   "execution_count": 7,
   "metadata": {},
   "outputs": [],
   "source": [
    "import squidpy as sq"
   ]
  },
  {
   "cell_type": "code",
   "execution_count": null,
   "metadata": {},
   "outputs": [],
   "source": []
  }
 ],
 "metadata": {
  "kernelspec": {
   "display_name": "spatial_analysis_environment",
   "language": "python",
   "name": "python3"
  },
  "language_info": {
   "codemirror_mode": {
    "name": "ipython",
    "version": 3
   },
   "file_extension": ".py",
   "mimetype": "text/x-python",
   "name": "python",
   "nbconvert_exporter": "python",
   "pygments_lexer": "ipython3",
   "version": "3.10.12"
  }
 },
 "nbformat": 4,
 "nbformat_minor": 2
}
