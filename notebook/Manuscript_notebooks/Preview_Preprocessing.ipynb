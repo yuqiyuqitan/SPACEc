{
 "cells": [
  {
   "cell_type": "markdown",
   "metadata": {},
   "source": [
    "# scCODEX preview - Dataframe preprocessing"
   ]
  },
  {
   "cell_type": "markdown",
   "metadata": {},
   "source": [
    "## Set file paths"
   ]
  },
  {
   "cell_type": "code",
   "execution_count": null,
   "metadata": {},
   "outputs": [],
   "source": [
    "data_dir = \"/Users/yuqitan/Nolan Lab Dropbox/Yuqi Tan/Collaborations/Hendrik/processed_data/14_05_23_Breast_70066_risk/Scan1/CVcol_2023_01_09_DAPI_3px/fcs/\"\n",
    "output_dir = \"/Users/yuqitan/Nolan Lab Dropbox/Yuqi Tan/Collaborations/Hendrik/processed_data/14_05_23_Breast_70066_risk/\"\n",
    "\n",
    "if not os.path.exists(output_dir): # check if output path exist - if not generate the path\n",
    "    os.makedirs(output_dir)"
   ]
  },
  {
   "cell_type": "markdown",
   "metadata": {},
   "source": [
    "## Load data"
   ]
  },
  {
   "cell_type": "code",
   "execution_count": null,
   "metadata": {},
   "outputs": [],
   "source": [
    "# this is loading the segmentation output \n",
    "df = pp_read_data(path=data_dir + 'compensated/',\\\n",
    "               reg_list=[], nuc_1 = 1) #this is only useful when there are multiple regions. it also helps to format the heading\n",
    "df.shape # this tells you the dimension of your data"
   ]
  },
  {
   "cell_type": "markdown",
   "metadata": {},
   "source": [
    "## Noramlize data"
   ]
  },
  {
   "cell_type": "code",
   "execution_count": null,
   "metadata": {},
   "outputs": [],
   "source": [
    "# This is to normalize the data \n",
    "dfz = pp_format(data=df, \n",
    "                list_out=['first_index', 'cell_id','tile_num','z', 'x_tile','y_tile', 'size','DAPI'],\n",
    "                list_keep = ['region','x','y','region_num',],\n",
    "                method = \"zscore\")"
   ]
  },
  {
   "cell_type": "code",
   "execution_count": null,
   "metadata": {},
   "outputs": [],
   "source": [
    "#examine unique region per tissue to decide whether or not we need x y correction\n",
    "pl_catplot(dfz,X = 'x',Y='y',\n",
    "           exp = 'region_num', hue = 'region_num',invert_y=True,size = 1,figsize=8)"
   ]
  },
  {
   "cell_type": "markdown",
   "metadata": {},
   "source": [
    "## Noise removal"
   ]
  },
  {
   "cell_type": "code",
   "execution_count": null,
   "metadata": {},
   "outputs": [],
   "source": [
    "dfz.columns"
   ]
  },
  {
   "cell_type": "code",
   "execution_count": null,
   "metadata": {},
   "outputs": [],
   "source": [
    "# get the column index for the last antibody \n",
    "dfz.columns.get_loc('ICOS')"
   ]
  },
  {
   "cell_type": "code",
   "execution_count": null,
   "metadata": {},
   "outputs": [],
   "source": [
    "# This function helps to figure out what the cut-off should be\n",
    "# This is to remove top 1 % of all cells that are highly expressive for all antibodies\n",
    "pl_zcount_thres(dfz = dfz, \n",
    "                col_num = 41, # last antibody index\n",
    "                cut_off=0.01, #top 1% of cells\n",
    "                count_bin=50) "
   ]
  },
  {
   "cell_type": "code",
   "execution_count": null,
   "metadata": {},
   "outputs": [],
   "source": [
    "df_nn,cc = pp_remove_noise(df=dfz, \n",
    "                           col_num=41, # this is the column index that has the last protein feature\n",
    "                           z_sum_thres=47, # number obtained from the function above\n",
    "                           z_count_thres=34 # number obtained from the function above\n",
    "                          )"
   ]
  },
  {
   "cell_type": "markdown",
   "metadata": {},
   "source": [
    "### Save denoised dataframe "
   ]
  },
  {
   "cell_type": "code",
   "execution_count": null,
   "metadata": {},
   "outputs": [],
   "source": [
    "df_nn.to_csv(output_dir + \"df_nn_NBT_230223_NBT_70129.csv\")"
   ]
  }
 ],
 "metadata": {
  "language_info": {
   "name": "python"
  },
  "orig_nbformat": 4
 },
 "nbformat": 4,
 "nbformat_minor": 2
}
