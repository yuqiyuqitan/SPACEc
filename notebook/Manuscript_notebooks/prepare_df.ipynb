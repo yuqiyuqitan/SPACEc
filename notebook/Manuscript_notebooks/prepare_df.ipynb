{
 "cells": [
  {
   "cell_type": "markdown",
   "metadata": {},
   "source": [
    "# Scipts used to process the dataframe"
   ]
  },
  {
   "cell_type": "code",
   "execution_count": null,
   "metadata": {},
   "outputs": [],
   "source": [
    "import os\n",
    "import pandas as pd\n",
    "\n",
    "# Define the directory path where the CSV files are located\n",
    "directory_path = \"/Volumes/Tim_Extern/HubMap_CellPose_data/CellPose_Results_corrected2\"\n",
    "\n",
    "# Get a list of all files in the directory\n",
    "file_list = os.listdir(directory_path)\n",
    "\n",
    "# Filter the list to only include CSV files\n",
    "csv_files = [file for file in file_list if file.endswith(\".csv\")]\n",
    "\n",
    "# Create a list to hold the column names for each file\n",
    "column_names_list = []\n",
    "\n",
    "# Iterate through the list of CSV files\n",
    "for file in csv_files:\n",
    "    # Read the CSV file into a pandas DataFrame\n",
    "    df = pd.read_csv(os.path.join(directory_path, file))\n",
    "    # Add the column names to the list\n",
    "    column_names_list.append(set(df.columns))\n",
    "\n",
    "# Find shared and different column names\n",
    "shared_names = set.intersection(*column_names_list)\n",
    "different_names = set.union(*column_names_list) - shared_names\n",
    "\n",
    "print(\"Shared column names:\", shared_names)\n",
    "print(\"Different column names:\", different_names)"
   ]
  },
  {
   "cell_type": "code",
   "execution_count": null,
   "metadata": {},
   "outputs": [],
   "source": [
    "import os\n",
    "import pandas as pd\n",
    "\n",
    "def rename_columns(directory_path, old_name, new_name):\n",
    "    # Get a list of all files in the directory\n",
    "    file_list = os.listdir(directory_path)\n",
    "\n",
    "    # Filter the list to only include CSV files\n",
    "    csv_files = [file for file in file_list if file.endswith(\".csv\")]\n",
    "\n",
    "    # Iterate through the list of CSV files\n",
    "    for file in csv_files:\n",
    "        # Read the CSV file into a pandas DataFrame\n",
    "        df = pd.read_csv(os.path.join(directory_path, file))\n",
    "        # Check if the old column name is in the DataFrame\n",
    "        if old_name in df.columns:\n",
    "            # Rename the column to the new name\n",
    "            df.rename(columns={old_name: new_name}, inplace=True)\n",
    "            # Write the updated DataFrame back to the CSV file\n",
    "            df.to_csv(os.path.join(directory_path, file), index=False)\n",
    "\n",
    "    print(\"Column name updated successfully.\")\n",
    "\n",
    "def remove_column(directory_path, column_name):\n",
    "    # Get a list of all files in the directory\n",
    "    file_list = os.listdir(directory_path)\n",
    "\n",
    "    # Filter the list to only include CSV files\n",
    "    csv_files = [file for file in file_list if file.endswith(\".csv\")]\n",
    "\n",
    "    # Iterate through the list of CSV files\n",
    "    for file in csv_files:\n",
    "        # Read the CSV file into a pandas DataFrame\n",
    "        df = pd.read_csv(os.path.join(directory_path, file))\n",
    "        # Check if the column is in the DataFrame\n",
    "        if column_name in df.columns:\n",
    "            # Remove the column from the DataFrame\n",
    "            df.drop(columns=[column_name], inplace=True)\n",
    "            # Write the updated DataFrame back to the CSV file\n",
    "            df.to_csv(os.path.join(directory_path, file), index=False)\n",
    "\n",
    "    print(\"Column removed successfully.\")\n",
    "    \n",
    "def remove_columns(directory_path, column_names):\n",
    "    # Get a list of all files in the directory\n",
    "    file_list = os.listdir(directory_path)\n",
    "\n",
    "    # Filter the list to only include CSV files\n",
    "    csv_files = [file for file in file_list if file.endswith(\".csv\")]\n",
    "\n",
    "    # Iterate through the list of CSV files\n",
    "    for file in csv_files:\n",
    "        # Read the CSV file into a pandas DataFrame\n",
    "        df = pd.read_csv(os.path.join(directory_path, file))\n",
    "        # Check if any of the columns are in the DataFrame\n",
    "        columns_to_remove = [col for col in column_names if col in df.columns]\n",
    "        if columns_to_remove:\n",
    "            # Remove the columns from the DataFrame\n",
    "            df.drop(columns=columns_to_remove, inplace=True)\n",
    "            # Write the updated DataFrame back to the CSV file\n",
    "            df.to_csv(os.path.join(directory_path, file), index=False)\n",
    "\n",
    "    print(\"Columns removed successfully.\")\n"
   ]
  },
  {
   "cell_type": "code",
   "execution_count": null,
   "metadata": {},
   "outputs": [],
   "source": [
    "remove_columns(directory_path, ['Empyt_a488_17', 'Empyt_a488_16', 'Empyt_a488_14', 'Ch2Cy20', 'Empyt_a488_19', 'Empyt_a488_23',  'Blank8', 'Ch2Cy18', 'CollIV', 'Ch2Cy14', 'Empyt_Cy3_26', 'Ch2Cy17', 'Hoechst24', 'Ch2Cy24', 'Ch2Cy19', 'Ch2Cy13', 'Ch2Cy21', 'Empyt_a488_22', 'Blank4', 'Empyt_a488_15',  'Empyt_a488_18', 'Hoechst26','Empyt_a488_20', 'Blank6', 'Podoplanin', 'Ch3Cy24', 'Empyt_a488_26', 'Ch2Cy23',  'Empyt_Cy3_24',  'Blank2', 'Blank5', 'Empyt_a488_21',  'Ch3Cy23', 'Blank7', 'Empyt_a488_24', 'Blank3', 'Ch2Cy22', 'Blank1',  'Hoechst25',  'Ch2Cy15', 'Ch2Cy16'])\n"
   ]
  },
  {
   "cell_type": "code",
   "execution_count": null,
   "metadata": {},
   "outputs": [],
   "source": [
    "rename_columns(directory_path, old_name, new_name)"
   ]
  }
 ],
 "metadata": {
  "language_info": {
   "name": "python"
  },
  "orig_nbformat": 4
 },
 "nbformat": 4,
 "nbformat_minor": 2
}
