{
 "cells": [
  {
   "cell_type": "code",
   "execution_count": 1,
   "metadata": {},
   "outputs": [],
   "source": [
    "import pandas as pd\n",
    "import anndata as ad\n",
    "import sys"
   ]
  },
  {
   "cell_type": "markdown",
   "metadata": {},
   "source": [
    "# Python wrapper for distance permutation analysis "
   ]
  },
  {
   "cell_type": "code",
   "execution_count": 2,
   "metadata": {},
   "outputs": [
    {
     "name": "stderr",
     "output_type": "stream",
     "text": [
      "R[write to console]: deldir 1.0-6      Nickname: \"Mendacious Cosmonaut\"\n",
      "\n",
      "R[write to console]: \n",
      "     The syntax of deldir() has had an important change. \n",
      "     The arguments have been re-ordered (the first three \n",
      "     are now \"x, y, z\") and some arguments have been \n",
      "     eliminated.  The handling of the z (\"tags\") \n",
      "     argument has been improved.\n",
      " \n",
      "     The \"dummy points\" facility has been removed. \n",
      "     This facility was a historical artefact, was really \n",
      "     of no use to anyone, and had hung around much too \n",
      "     long.  Since there are no longer any \"dummy points\", \n",
      "     the structure of the value returned by deldir() has \n",
      "     changed slightly.  The arguments of plot.deldir() \n",
      "     have been adjusted accordingly; e.g. the character \n",
      "     string \"wpoints\" (\"which points\") has been \n",
      "     replaced by the logical scalar \"showpoints\". \n",
      "     The user should consult the help files.\n",
      "\n",
      "\n"
     ]
    },
    {
     "name": "stdout",
     "output_type": "stream",
     "text": [
      "── Attaching packages ─────────────────────────────────────── tidyverse 1.3.2 ──\n",
      "✔ ggplot2 3.4.1     ✔ purrr   1.0.1\n",
      "✔ tibble  3.2.1     ✔ dplyr   1.1.2\n",
      "✔ tidyr   1.2.1     ✔ stringr 1.5.0\n",
      "✔ readr   2.1.4     ✔ forcats 1.0.0\n",
      "── Conflicts ────────────────────────────────────────── tidyverse_conflicts() ──\n",
      "✖ dplyr::filter() masks stats::filter()\n",
      "✖ dplyr::lag()    masks stats::lag()\n"
     ]
    },
    {
     "name": "stderr",
     "output_type": "stream",
     "text": [
      "R[write to console]: Lade nötiges Paket: foreach\n",
      "\n",
      "R[write to console]: \n",
      "Attache Paket: ‘foreach’\n",
      "\n",
      "\n",
      "R[write to console]: Die folgenden Objekte sind maskiert von ‘package:purrr’:\n",
      "\n",
      "    accumulate, when\n",
      "\n",
      "\n",
      "R[write to console]: Lade nötiges Paket: iterators\n",
      "\n",
      "R[write to console]: Lade nötiges Paket: snow\n",
      "\n",
      "R[write to console]: \n",
      "Attache Paket: ‘parallel’\n",
      "\n",
      "\n",
      "R[write to console]: Die folgenden Objekte sind maskiert von ‘package:snow’:\n",
      "\n",
      "    clusterApply, clusterApplyLB, clusterCall, clusterEvalQ,\n",
      "    clusterExport, clusterMap, clusterSplit, makeCluster, parApply,\n",
      "    parCapply, parLapply, parRapply, parSapply, splitIndices,\n",
      "    stopCluster\n",
      "\n",
      "\n",
      "R[write to console]: \n",
      "Attache Paket: ‘magrittr’\n",
      "\n",
      "\n",
      "R[write to console]: Das folgende Objekt ist maskiert ‘package:purrr’:\n",
      "\n",
      "    set_names\n",
      "\n",
      "\n",
      "R[write to console]: Das folgende Objekt ist maskiert ‘package:tidyr’:\n",
      "\n",
      "    extract\n",
      "\n",
      "\n"
     ]
    }
   ],
   "source": [
    "sys.path.append('/Users/timnoahkempchen/Desktop/SAP5/src') # This code is only needed if you want to load functions from a non-default directory\n",
    "\n",
    "from python_R_wrapper import * \n"
   ]
  },
  {
   "cell_type": "code",
   "execution_count": 3,
   "metadata": {},
   "outputs": [],
   "source": [
    "input_dir = '/Volumes/Tim_Extern/'"
   ]
  },
  {
   "cell_type": "code",
   "execution_count": 4,
   "metadata": {},
   "outputs": [],
   "source": [
    "# read adata object\n",
    "adata = ad.read_h5ad(input_dir+\"adata_nn_demo_hubmap_intestine_20231014_annotated.h5ad\")"
   ]
  },
  {
   "cell_type": "code",
   "execution_count": 12,
   "metadata": {},
   "outputs": [],
   "source": [
    "# df to csv\n",
    "adata.obs.to_csv(input_dir+\"adata_nn_demo_hubmap_intestine_20231014_annotated.csv\")"
   ]
  },
  {
   "cell_type": "code",
   "execution_count": 11,
   "metadata": {},
   "outputs": [
    {
     "name": "stdout",
     "output_type": "stream",
     "text": [
      "[1] \"Calculating observed triangulation distances\"\n",
      "  |======================================================================| 100%\n",
      "[1] \"Calculating iterated shuffled triangulation distances\"\n",
      "  |======================================================================| 100%\n",
      "[1] \"Identifying significant interactions\"\n"
     ]
    },
    {
     "name": "stderr",
     "output_type": "stream",
     "text": [
      "R[write to console]: Fehler in merge.data.frame(x = triangulation_distances, y = metadata, all.x = TRUE) : \n",
      "  Vektoren negativer Länge sind nicht erlaubt\n",
      "\n",
      "R[write to console]: Zusätzlich: \n",
      "R[write to console]: Es gab 12 Warnungen (Anzeige mit warnings())\n",
      "R[write to console]: \n",
      "\n"
     ]
    },
    {
     "ename": "RRuntimeError",
     "evalue": "Fehler in merge.data.frame(x = triangulation_distances, y = metadata, all.x = TRUE) : \n  Vektoren negativer Länge sind nicht erlaubt\n",
     "output_type": "error",
     "traceback": [
      "\u001b[0;31m---------------------------------------------------------------------------\u001b[0m",
      "\u001b[0;31mRRuntimeError\u001b[0m                             Traceback (most recent call last)",
      "\u001b[1;32m/Users/timnoahkempchen/Desktop/SAP5/notebook/Manuscript_notebooks/distance_permutation_analysis.ipynb Cell 6\u001b[0m line \u001b[0;36m1\n\u001b[0;32m----> <a href='vscode-notebook-cell:/Users/timnoahkempchen/Desktop/SAP5/notebook/Manuscript_notebooks/distance_permutation_analysis.ipynb#X60sZmlsZQ%3D%3D?line=0'>1</a>\u001b[0m res \u001b[39m=\u001b[39m calculate_distance_permutation(adata, \n\u001b[1;32m      <a href='vscode-notebook-cell:/Users/timnoahkempchen/Desktop/SAP5/notebook/Manuscript_notebooks/distance_permutation_analysis.ipynb#X60sZmlsZQ%3D%3D?line=1'>2</a>\u001b[0m                                num_iterations \u001b[39m=\u001b[39;49m \u001b[39m2\u001b[39;49m, \n\u001b[1;32m      <a href='vscode-notebook-cell:/Users/timnoahkempchen/Desktop/SAP5/notebook/Manuscript_notebooks/distance_permutation_analysis.ipynb#X60sZmlsZQ%3D%3D?line=2'>3</a>\u001b[0m                                x_pos \u001b[39m=\u001b[39;49m \u001b[39m\"\u001b[39;49m\u001b[39mx\u001b[39;49m\u001b[39m\"\u001b[39;49m, y_pos \u001b[39m=\u001b[39;49m \u001b[39m\"\u001b[39;49m\u001b[39my\u001b[39;49m\u001b[39m\"\u001b[39;49m, \n\u001b[1;32m      <a href='vscode-notebook-cell:/Users/timnoahkempchen/Desktop/SAP5/notebook/Manuscript_notebooks/distance_permutation_analysis.ipynb#X60sZmlsZQ%3D%3D?line=3'>4</a>\u001b[0m                                cell_type \u001b[39m=\u001b[39;49m \u001b[39m\"\u001b[39;49m\u001b[39mcelltype\u001b[39;49m\u001b[39m\"\u001b[39;49m, \n\u001b[1;32m      <a href='vscode-notebook-cell:/Users/timnoahkempchen/Desktop/SAP5/notebook/Manuscript_notebooks/distance_permutation_analysis.ipynb#X60sZmlsZQ%3D%3D?line=4'>5</a>\u001b[0m                                comparison \u001b[39m=\u001b[39;49m \u001b[39m\"\u001b[39;49m\u001b[39mtissue\u001b[39;49m\u001b[39m\"\u001b[39;49m, \n\u001b[1;32m      <a href='vscode-notebook-cell:/Users/timnoahkempchen/Desktop/SAP5/notebook/Manuscript_notebooks/distance_permutation_analysis.ipynb#X60sZmlsZQ%3D%3D?line=5'>6</a>\u001b[0m                                region \u001b[39m=\u001b[39;49m \u001b[39m\"\u001b[39;49m\u001b[39munique_region\u001b[39;49m\u001b[39m\"\u001b[39;49m, \n\u001b[1;32m      <a href='vscode-notebook-cell:/Users/timnoahkempchen/Desktop/SAP5/notebook/Manuscript_notebooks/distance_permutation_analysis.ipynb#X60sZmlsZQ%3D%3D?line=6'>7</a>\u001b[0m                                metadata_columns \u001b[39m=\u001b[39;49m [\u001b[39m\"\u001b[39;49m\u001b[39mdonor\u001b[39;49m\u001b[39m\"\u001b[39;49m, \u001b[39m\"\u001b[39;49m\u001b[39mtissue\u001b[39;49m\u001b[39m\"\u001b[39;49m, \u001b[39m\"\u001b[39;49m\u001b[39mregion\u001b[39;49m\u001b[39m\"\u001b[39;49m, \u001b[39m\"\u001b[39;49m\u001b[39munique_region\u001b[39;49m\u001b[39m\"\u001b[39;49m], \n\u001b[1;32m      <a href='vscode-notebook-cell:/Users/timnoahkempchen/Desktop/SAP5/notebook/Manuscript_notebooks/distance_permutation_analysis.ipynb#X60sZmlsZQ%3D%3D?line=7'>8</a>\u001b[0m                                min_observation_per_region \u001b[39m=\u001b[39;49m \u001b[39m5\u001b[39;49m, \n\u001b[1;32m      <a href='vscode-notebook-cell:/Users/timnoahkempchen/Desktop/SAP5/notebook/Manuscript_notebooks/distance_permutation_analysis.ipynb#X60sZmlsZQ%3D%3D?line=8'>9</a>\u001b[0m                                sig_p_val \u001b[39m=\u001b[39;49m \u001b[39m0.05\u001b[39;49m, \n\u001b[1;32m     <a href='vscode-notebook-cell:/Users/timnoahkempchen/Desktop/SAP5/notebook/Manuscript_notebooks/distance_permutation_analysis.ipynb#X60sZmlsZQ%3D%3D?line=9'>10</a>\u001b[0m                                num_cores \u001b[39m=\u001b[39;49m \u001b[39m2\u001b[39;49m, \n\u001b[1;32m     <a href='vscode-notebook-cell:/Users/timnoahkempchen/Desktop/SAP5/notebook/Manuscript_notebooks/distance_permutation_analysis.ipynb#X60sZmlsZQ%3D%3D?line=10'>11</a>\u001b[0m                                distance_threshold \u001b[39m=\u001b[39;49m \u001b[39m128\u001b[39;49m)\n",
      "\u001b[1;32m/Users/timnoahkempchen/Desktop/SAP5/notebook/Manuscript_notebooks/distance_permutation_analysis.ipynb Cell 6\u001b[0m line \u001b[0;36m7\n\u001b[1;32m    <a href='vscode-notebook-cell:/Users/timnoahkempchen/Desktop/SAP5/notebook/Manuscript_notebooks/distance_permutation_analysis.ipynb#X60sZmlsZQ%3D%3D?line=794'>795</a>\u001b[0m \u001b[39mwith\u001b[39;00m localconverter(robjects\u001b[39m.\u001b[39mdefault_converter \u001b[39m+\u001b[39m pandas2ri\u001b[39m.\u001b[39mconverter):\n\u001b[1;32m    <a href='vscode-notebook-cell:/Users/timnoahkempchen/Desktop/SAP5/notebook/Manuscript_notebooks/distance_permutation_analysis.ipynb#X60sZmlsZQ%3D%3D?line=795'>796</a>\u001b[0m     r_df \u001b[39m=\u001b[39m robjects\u001b[39m.\u001b[39mconversion\u001b[39m.\u001b[39mpy2rpy(adata\u001b[39m.\u001b[39mobs)\n\u001b[0;32m--> <a href='vscode-notebook-cell:/Users/timnoahkempchen/Desktop/SAP5/notebook/Manuscript_notebooks/distance_permutation_analysis.ipynb#X60sZmlsZQ%3D%3D?line=796'>797</a>\u001b[0m result \u001b[39m=\u001b[39m r_func(r_df, num_iterations, x_pos, y_pos, cell_type, comparison, region, robjects\u001b[39m.\u001b[39;49mStrVector(metadata_columns), min_observation_per_region, sig_p_val, num_cores, distance_threshold)\n",
      "File \u001b[0;32m~/opt/anaconda3/envs/spatial_analysis_environment/lib/python3.10/site-packages/rpy2/robjects/functions.py:208\u001b[0m, in \u001b[0;36mSignatureTranslatedFunction.__call__\u001b[0;34m(self, *args, **kwargs)\u001b[0m\n\u001b[1;32m    206\u001b[0m         v \u001b[39m=\u001b[39m kwargs\u001b[39m.\u001b[39mpop(k)\n\u001b[1;32m    207\u001b[0m         kwargs[r_k] \u001b[39m=\u001b[39m v\n\u001b[0;32m--> 208\u001b[0m \u001b[39mreturn\u001b[39;00m (\u001b[39msuper\u001b[39;49m(SignatureTranslatedFunction, \u001b[39mself\u001b[39;49m)\n\u001b[1;32m    209\u001b[0m         \u001b[39m.\u001b[39;49m\u001b[39m__call__\u001b[39;49m(\u001b[39m*\u001b[39;49margs, \u001b[39m*\u001b[39;49m\u001b[39m*\u001b[39;49mkwargs))\n",
      "File \u001b[0;32m~/opt/anaconda3/envs/spatial_analysis_environment/lib/python3.10/site-packages/rpy2/robjects/functions.py:131\u001b[0m, in \u001b[0;36mFunction.__call__\u001b[0;34m(self, *args, **kwargs)\u001b[0m\n\u001b[1;32m    129\u001b[0m     \u001b[39melse\u001b[39;00m:\n\u001b[1;32m    130\u001b[0m         new_kwargs[k] \u001b[39m=\u001b[39m cv\u001b[39m.\u001b[39mpy2rpy(v)\n\u001b[0;32m--> 131\u001b[0m res \u001b[39m=\u001b[39m \u001b[39msuper\u001b[39;49m(Function, \u001b[39mself\u001b[39;49m)\u001b[39m.\u001b[39;49m\u001b[39m__call__\u001b[39;49m(\u001b[39m*\u001b[39;49mnew_args, \u001b[39m*\u001b[39;49m\u001b[39m*\u001b[39;49mnew_kwargs)\n\u001b[1;32m    132\u001b[0m res \u001b[39m=\u001b[39m cv\u001b[39m.\u001b[39mrpy2py(res)\n\u001b[1;32m    133\u001b[0m \u001b[39mreturn\u001b[39;00m res\n",
      "File \u001b[0;32m~/opt/anaconda3/envs/spatial_analysis_environment/lib/python3.10/site-packages/rpy2/rinterface_lib/conversion.py:45\u001b[0m, in \u001b[0;36m_cdata_res_to_rinterface.<locals>._\u001b[0;34m(*args, **kwargs)\u001b[0m\n\u001b[1;32m     44\u001b[0m \u001b[39mdef\u001b[39;00m \u001b[39m_\u001b[39m(\u001b[39m*\u001b[39margs, \u001b[39m*\u001b[39m\u001b[39m*\u001b[39mkwargs):\n\u001b[0;32m---> 45\u001b[0m     cdata \u001b[39m=\u001b[39m function(\u001b[39m*\u001b[39;49margs, \u001b[39m*\u001b[39;49m\u001b[39m*\u001b[39;49mkwargs)\n\u001b[1;32m     46\u001b[0m     \u001b[39m# TODO: test cdata is of the expected CType\u001b[39;00m\n\u001b[1;32m     47\u001b[0m     \u001b[39mreturn\u001b[39;00m _cdata_to_rinterface(cdata)\n",
      "File \u001b[0;32m~/opt/anaconda3/envs/spatial_analysis_environment/lib/python3.10/site-packages/rpy2/rinterface.py:873\u001b[0m, in \u001b[0;36mSexpClosure.__call__\u001b[0;34m(self, *args, **kwargs)\u001b[0m\n\u001b[1;32m    866\u001b[0m     res \u001b[39m=\u001b[39m rmemory\u001b[39m.\u001b[39mprotect(\n\u001b[1;32m    867\u001b[0m         openrlib\u001b[39m.\u001b[39mrlib\u001b[39m.\u001b[39mR_tryEval(\n\u001b[1;32m    868\u001b[0m             call_r,\n\u001b[1;32m    869\u001b[0m             call_context\u001b[39m.\u001b[39m__sexp__\u001b[39m.\u001b[39m_cdata,\n\u001b[1;32m    870\u001b[0m             error_occured)\n\u001b[1;32m    871\u001b[0m     )\n\u001b[1;32m    872\u001b[0m     \u001b[39mif\u001b[39;00m error_occured[\u001b[39m0\u001b[39m]:\n\u001b[0;32m--> 873\u001b[0m         \u001b[39mraise\u001b[39;00m embedded\u001b[39m.\u001b[39mRRuntimeError(_rinterface\u001b[39m.\u001b[39m_geterrmessage())\n\u001b[1;32m    874\u001b[0m \u001b[39mreturn\u001b[39;00m res\n",
      "\u001b[0;31mRRuntimeError\u001b[0m: Fehler in merge.data.frame(x = triangulation_distances, y = metadata, all.x = TRUE) : \n  Vektoren negativer Länge sind nicht erlaubt\n"
     ]
    }
   ],
   "source": [
    "res = calculate_distance_permutation(adata, \n",
    "                               num_iterations = 2, \n",
    "                               x_pos = \"x\", y_pos = \"y\", \n",
    "                               cell_type = \"celltype\", \n",
    "                               comparison = \"tissue\", \n",
    "                               region = \"unique_region\", \n",
    "                               metadata_columns = [\"donor\", \"tissue\", \"region\", \"unique_region\"], \n",
    "                               min_observation_per_region = 5, \n",
    "                               sig_p_val = 0.05, \n",
    "                               num_cores = 2, \n",
    "                               distance_threshold = 128)"
   ]
  },
  {
   "cell_type": "code",
   "execution_count": 7,
   "metadata": {},
   "outputs": [
    {
     "data": {
      "text/html": [
       "<div>\n",
       "<style scoped>\n",
       "    .dataframe tbody tr th:only-of-type {\n",
       "        vertical-align: middle;\n",
       "    }\n",
       "\n",
       "    .dataframe tbody tr th {\n",
       "        vertical-align: top;\n",
       "    }\n",
       "\n",
       "    .dataframe thead th {\n",
       "        text-align: right;\n",
       "    }\n",
       "</style>\n",
       "<table border=\"1\" class=\"dataframe\">\n",
       "  <thead>\n",
       "    <tr style=\"text-align: right;\">\n",
       "      <th></th>\n",
       "      <th>x</th>\n",
       "      <th>y</th>\n",
       "      <th>region_num</th>\n",
       "      <th>donor</th>\n",
       "      <th>tissue</th>\n",
       "      <th>region</th>\n",
       "      <th>area</th>\n",
       "      <th>unique_region</th>\n",
       "      <th>leiden_1</th>\n",
       "      <th>leiden_1.5</th>\n",
       "      <th>leiden_1_subcluster</th>\n",
       "      <th>leiden_2</th>\n",
       "      <th>celltype</th>\n",
       "      <th>leiden_1_subcluster_22</th>\n",
       "      <th>celltype_fine</th>\n",
       "      <th>celltype_fine_new</th>\n",
       "    </tr>\n",
       "  </thead>\n",
       "  <tbody>\n",
       "    <tr>\n",
       "      <th>0</th>\n",
       "      <td>2.019231</td>\n",
       "      <td>35.865385</td>\n",
       "      <td>4</td>\n",
       "      <td>B004</td>\n",
       "      <td>CL</td>\n",
       "      <td>reg004</td>\n",
       "      <td>52.0</td>\n",
       "      <td>B004_CL_reg4</td>\n",
       "      <td>11</td>\n",
       "      <td>14</td>\n",
       "      <td>11</td>\n",
       "      <td>4</td>\n",
       "      <td>Smooth muscle</td>\n",
       "      <td>11</td>\n",
       "      <td>Smooth muscle</td>\n",
       "      <td>Smooth muscle</td>\n",
       "    </tr>\n",
       "    <tr>\n",
       "      <th>1</th>\n",
       "      <td>4.009615</td>\n",
       "      <td>110.221154</td>\n",
       "      <td>4</td>\n",
       "      <td>B004</td>\n",
       "      <td>CL</td>\n",
       "      <td>reg004</td>\n",
       "      <td>104.0</td>\n",
       "      <td>B004_CL_reg4</td>\n",
       "      <td>26</td>\n",
       "      <td>35</td>\n",
       "      <td>26</td>\n",
       "      <td>48</td>\n",
       "      <td>ICC</td>\n",
       "      <td>26</td>\n",
       "      <td>ICC</td>\n",
       "      <td>ICC</td>\n",
       "    </tr>\n",
       "    <tr>\n",
       "      <th>2</th>\n",
       "      <td>1.315789</td>\n",
       "      <td>347.157895</td>\n",
       "      <td>4</td>\n",
       "      <td>B004</td>\n",
       "      <td>CL</td>\n",
       "      <td>reg004</td>\n",
       "      <td>19.0</td>\n",
       "      <td>B004_CL_reg4</td>\n",
       "      <td>11</td>\n",
       "      <td>14</td>\n",
       "      <td>11</td>\n",
       "      <td>4</td>\n",
       "      <td>Smooth muscle</td>\n",
       "      <td>11</td>\n",
       "      <td>Smooth muscle</td>\n",
       "      <td>Smooth muscle</td>\n",
       "    </tr>\n",
       "    <tr>\n",
       "      <th>3</th>\n",
       "      <td>3.132353</td>\n",
       "      <td>705.058824</td>\n",
       "      <td>4</td>\n",
       "      <td>B004</td>\n",
       "      <td>CL</td>\n",
       "      <td>reg004</td>\n",
       "      <td>68.0</td>\n",
       "      <td>B004_CL_reg4</td>\n",
       "      <td>9</td>\n",
       "      <td>13</td>\n",
       "      <td>9</td>\n",
       "      <td>21</td>\n",
       "      <td>Stroma</td>\n",
       "      <td>9</td>\n",
       "      <td>Stroma</td>\n",
       "      <td>Stroma</td>\n",
       "    </tr>\n",
       "    <tr>\n",
       "      <th>4</th>\n",
       "      <td>3.740741</td>\n",
       "      <td>1795.537037</td>\n",
       "      <td>4</td>\n",
       "      <td>B004</td>\n",
       "      <td>CL</td>\n",
       "      <td>reg004</td>\n",
       "      <td>54.0</td>\n",
       "      <td>B004_CL_reg4</td>\n",
       "      <td>15</td>\n",
       "      <td>12</td>\n",
       "      <td>15</td>\n",
       "      <td>9</td>\n",
       "      <td>TA</td>\n",
       "      <td>15</td>\n",
       "      <td>Smooth muscle</td>\n",
       "      <td>Smooth muscle</td>\n",
       "    </tr>\n",
       "  </tbody>\n",
       "</table>\n",
       "</div>"
      ],
      "text/plain": [
       "          x            y  region_num donor tissue  region   area  \\\n",
       "0  2.019231    35.865385           4  B004     CL  reg004   52.0   \n",
       "1  4.009615   110.221154           4  B004     CL  reg004  104.0   \n",
       "2  1.315789   347.157895           4  B004     CL  reg004   19.0   \n",
       "3  3.132353   705.058824           4  B004     CL  reg004   68.0   \n",
       "4  3.740741  1795.537037           4  B004     CL  reg004   54.0   \n",
       "\n",
       "  unique_region leiden_1 leiden_1.5 leiden_1_subcluster leiden_2  \\\n",
       "0  B004_CL_reg4       11         14                  11        4   \n",
       "1  B004_CL_reg4       26         35                  26       48   \n",
       "2  B004_CL_reg4       11         14                  11        4   \n",
       "3  B004_CL_reg4        9         13                   9       21   \n",
       "4  B004_CL_reg4       15         12                  15        9   \n",
       "\n",
       "        celltype leiden_1_subcluster_22  celltype_fine celltype_fine_new  \n",
       "0  Smooth muscle                     11  Smooth muscle     Smooth muscle  \n",
       "1            ICC                     26            ICC               ICC  \n",
       "2  Smooth muscle                     11  Smooth muscle     Smooth muscle  \n",
       "3         Stroma                      9         Stroma            Stroma  \n",
       "4             TA                     15  Smooth muscle     Smooth muscle  "
      ]
     },
     "execution_count": 7,
     "metadata": {},
     "output_type": "execute_result"
    }
   ],
   "source": [
    "df = adata.obs\n",
    "df.head()"
   ]
  },
  {
   "cell_type": "code",
   "execution_count": 11,
   "metadata": {},
   "outputs": [
    {
     "data": {
      "text/html": [
       "<div>\n",
       "<style scoped>\n",
       "    .dataframe tbody tr th:only-of-type {\n",
       "        vertical-align: middle;\n",
       "    }\n",
       "\n",
       "    .dataframe tbody tr th {\n",
       "        vertical-align: top;\n",
       "    }\n",
       "\n",
       "    .dataframe thead th {\n",
       "        text-align: right;\n",
       "    }\n",
       "</style>\n",
       "<table border=\"1\" class=\"dataframe\">\n",
       "  <thead>\n",
       "    <tr style=\"text-align: right;\">\n",
       "      <th></th>\n",
       "      <th>donor</th>\n",
       "      <th>tissue</th>\n",
       "      <th>region</th>\n",
       "      <th>unique_region</th>\n",
       "    </tr>\n",
       "  </thead>\n",
       "  <tbody>\n",
       "    <tr>\n",
       "      <th>0</th>\n",
       "      <td>B004</td>\n",
       "      <td>CL</td>\n",
       "      <td>reg004</td>\n",
       "      <td>B004_CL_reg4</td>\n",
       "    </tr>\n",
       "    <tr>\n",
       "      <th>1</th>\n",
       "      <td>B004</td>\n",
       "      <td>CL</td>\n",
       "      <td>reg004</td>\n",
       "      <td>B004_CL_reg4</td>\n",
       "    </tr>\n",
       "    <tr>\n",
       "      <th>2</th>\n",
       "      <td>B004</td>\n",
       "      <td>CL</td>\n",
       "      <td>reg004</td>\n",
       "      <td>B004_CL_reg4</td>\n",
       "    </tr>\n",
       "    <tr>\n",
       "      <th>3</th>\n",
       "      <td>B004</td>\n",
       "      <td>CL</td>\n",
       "      <td>reg004</td>\n",
       "      <td>B004_CL_reg4</td>\n",
       "    </tr>\n",
       "    <tr>\n",
       "      <th>4</th>\n",
       "      <td>B004</td>\n",
       "      <td>CL</td>\n",
       "      <td>reg004</td>\n",
       "      <td>B004_CL_reg4</td>\n",
       "    </tr>\n",
       "  </tbody>\n",
       "</table>\n",
       "</div>"
      ],
      "text/plain": [
       "  donor tissue  region unique_region\n",
       "0  B004     CL  reg004  B004_CL_reg4\n",
       "1  B004     CL  reg004  B004_CL_reg4\n",
       "2  B004     CL  reg004  B004_CL_reg4\n",
       "3  B004     CL  reg004  B004_CL_reg4\n",
       "4  B004     CL  reg004  B004_CL_reg4"
      ]
     },
     "execution_count": 11,
     "metadata": {},
     "output_type": "execute_result"
    }
   ],
   "source": [
    "# subset df for metadata\n",
    "metadata = df[[\"donor\", \"tissue\", \"region\", \"unique_region\"]]\n",
    "metadata.head()"
   ]
  },
  {
   "cell_type": "code",
   "execution_count": 12,
   "metadata": {},
   "outputs": [],
   "source": [
    "df[\"index\"] = df.index"
   ]
  },
  {
   "cell_type": "code",
   "execution_count": 13,
   "metadata": {},
   "outputs": [],
   "source": [
    "triangulation_output = \"/Users/timnoahkempchen/Downloads/triangilation_test_output/\""
   ]
  },
  {
   "cell_type": "code",
   "execution_count": 14,
   "metadata": {},
   "outputs": [
    {
     "name": "stdout",
     "output_type": "stream",
     "text": [
      "  |======================================================================| 100%\n"
     ]
    }
   ],
   "source": [
    "triangulation_distances_obs = get_triangulation_distances(df_input = df, \n",
    "                                     id = \"index\", \n",
    "                                     x_pos = \"x\", y_pos = \"y\", \n",
    "                                     cell_type = \"celltype\", \n",
    "                                     region = \"unique_region\", \n",
    "                                     num_cores=10)"
   ]
  },
  {
   "cell_type": "code",
   "execution_count": 18,
   "metadata": {},
   "outputs": [
    {
     "data": {
      "text/html": [
       "<div>\n",
       "<style scoped>\n",
       "    .dataframe tbody tr th:only-of-type {\n",
       "        vertical-align: middle;\n",
       "    }\n",
       "\n",
       "    .dataframe tbody tr th {\n",
       "        vertical-align: top;\n",
       "    }\n",
       "\n",
       "    .dataframe thead th {\n",
       "        text-align: right;\n",
       "    }\n",
       "</style>\n",
       "<table border=\"1\" class=\"dataframe\">\n",
       "  <thead>\n",
       "    <tr style=\"text-align: right;\">\n",
       "      <th></th>\n",
       "      <th>unique_region</th>\n",
       "      <th>celltype1_index</th>\n",
       "      <th>celltype1</th>\n",
       "      <th>celltype1_X</th>\n",
       "      <th>celltype1_Y</th>\n",
       "      <th>celltype2_index</th>\n",
       "      <th>celltype2</th>\n",
       "      <th>celltype2_X</th>\n",
       "      <th>celltype2_Y</th>\n",
       "      <th>distance</th>\n",
       "    </tr>\n",
       "  </thead>\n",
       "  <tbody>\n",
       "    <tr>\n",
       "      <th>1</th>\n",
       "      <td>B004_CL_reg4</td>\n",
       "      <td>22888</td>\n",
       "      <td>M2 Macrophage</td>\n",
       "      <td>8324.0</td>\n",
       "      <td>260.0</td>\n",
       "      <td>22857</td>\n",
       "      <td>TA</td>\n",
       "      <td>8311.0</td>\n",
       "      <td>350.0</td>\n",
       "      <td>90.934042</td>\n",
       "    </tr>\n",
       "    <tr>\n",
       "      <th>2</th>\n",
       "      <td>B004_CL_reg4</td>\n",
       "      <td>22893</td>\n",
       "      <td>Smooth muscle</td>\n",
       "      <td>8321.0</td>\n",
       "      <td>183.0</td>\n",
       "      <td>22888</td>\n",
       "      <td>M2 Macrophage</td>\n",
       "      <td>8324.0</td>\n",
       "      <td>260.0</td>\n",
       "      <td>77.058419</td>\n",
       "    </tr>\n",
       "    <tr>\n",
       "      <th>3</th>\n",
       "      <td>B004_CL_reg4</td>\n",
       "      <td>22893</td>\n",
       "      <td>Smooth muscle</td>\n",
       "      <td>8321.0</td>\n",
       "      <td>183.0</td>\n",
       "      <td>22891</td>\n",
       "      <td>M2 Macrophage</td>\n",
       "      <td>8324.0</td>\n",
       "      <td>160.0</td>\n",
       "      <td>23.194827</td>\n",
       "    </tr>\n",
       "    <tr>\n",
       "      <th>4</th>\n",
       "      <td>B004_CL_reg4</td>\n",
       "      <td>22933</td>\n",
       "      <td>M2 Macrophage</td>\n",
       "      <td>8339.0</td>\n",
       "      <td>539.0</td>\n",
       "      <td>22918</td>\n",
       "      <td>M2 Macrophage</td>\n",
       "      <td>8331.0</td>\n",
       "      <td>551.0</td>\n",
       "      <td>14.422205</td>\n",
       "    </tr>\n",
       "    <tr>\n",
       "      <th>5</th>\n",
       "      <td>B004_CL_reg4</td>\n",
       "      <td>22934</td>\n",
       "      <td>TA</td>\n",
       "      <td>8339.0</td>\n",
       "      <td>708.0</td>\n",
       "      <td>22846</td>\n",
       "      <td>TA</td>\n",
       "      <td>8302.0</td>\n",
       "      <td>731.0</td>\n",
       "      <td>43.566042</td>\n",
       "    </tr>\n",
       "  </tbody>\n",
       "</table>\n",
       "</div>"
      ],
      "text/plain": [
       "  unique_region celltype1_index      celltype1  celltype1_X  celltype1_Y  \\\n",
       "1  B004_CL_reg4           22888  M2 Macrophage       8324.0        260.0   \n",
       "2  B004_CL_reg4           22893  Smooth muscle       8321.0        183.0   \n",
       "3  B004_CL_reg4           22893  Smooth muscle       8321.0        183.0   \n",
       "4  B004_CL_reg4           22933  M2 Macrophage       8339.0        539.0   \n",
       "5  B004_CL_reg4           22934             TA       8339.0        708.0   \n",
       "\n",
       "  celltype2_index      celltype2  celltype2_X  celltype2_Y   distance  \n",
       "1           22857             TA       8311.0        350.0  90.934042  \n",
       "2           22888  M2 Macrophage       8324.0        260.0  77.058419  \n",
       "3           22891  M2 Macrophage       8324.0        160.0  23.194827  \n",
       "4           22918  M2 Macrophage       8331.0        551.0  14.422205  \n",
       "5           22846             TA       8302.0        731.0  43.566042  "
      ]
     },
     "execution_count": 18,
     "metadata": {},
     "output_type": "execute_result"
    }
   ],
   "source": [
    "triangulation_distances_obs.head()"
   ]
  },
  {
   "cell_type": "code",
   "execution_count": 10,
   "metadata": {},
   "outputs": [],
   "source": [
    "\n",
    "\n",
    "# write to file\n",
    "triangulation_distances.to_csv(triangulation_output+\"triangulation_distances.csv\")"
   ]
  },
  {
   "cell_type": "code",
   "execution_count": 15,
   "metadata": {},
   "outputs": [
    {
     "name": "stdout",
     "output_type": "stream",
     "text": [
      "  |======================================================================| 100%\n"
     ]
    }
   ],
   "source": [
    "iterated_triangulation_distances_shuf = iterate_triangulation_distances(df_input = df, \n",
    "                                num_iterations = 2, \n",
    "                                id = \"index\", \n",
    "                                x_pos = \"x\", y_pos = \"y\", \n",
    "                                cell_type = \"celltype\", \n",
    "                                region = \"unique_region\", \n",
    "                                num_cores=10)"
   ]
  },
  {
   "cell_type": "code",
   "execution_count": 17,
   "metadata": {},
   "outputs": [
    {
     "data": {
      "text/html": [
       "<div>\n",
       "<style scoped>\n",
       "    .dataframe tbody tr th:only-of-type {\n",
       "        vertical-align: middle;\n",
       "    }\n",
       "\n",
       "    .dataframe tbody tr th {\n",
       "        vertical-align: top;\n",
       "    }\n",
       "\n",
       "    .dataframe thead th {\n",
       "        text-align: right;\n",
       "    }\n",
       "</style>\n",
       "<table border=\"1\" class=\"dataframe\">\n",
       "  <thead>\n",
       "    <tr style=\"text-align: right;\">\n",
       "      <th></th>\n",
       "      <th>celltype1</th>\n",
       "      <th>celltype2</th>\n",
       "      <th>mean_dist</th>\n",
       "      <th>unique_region</th>\n",
       "      <th>iteration</th>\n",
       "    </tr>\n",
       "  </thead>\n",
       "  <tbody>\n",
       "    <tr>\n",
       "      <th>1</th>\n",
       "      <td>CD4+ T cell</td>\n",
       "      <td>CD4+ T cell</td>\n",
       "      <td>65.669129</td>\n",
       "      <td>B004_CL_reg4</td>\n",
       "      <td>1</td>\n",
       "    </tr>\n",
       "    <tr>\n",
       "      <th>2</th>\n",
       "      <td>CD4+ T cell</td>\n",
       "      <td>CD66+ Enterocyte</td>\n",
       "      <td>43.990282</td>\n",
       "      <td>B004_CL_reg4</td>\n",
       "      <td>1</td>\n",
       "    </tr>\n",
       "    <tr>\n",
       "      <th>3</th>\n",
       "      <td>CD4+ T cell</td>\n",
       "      <td>CD8+ T cell</td>\n",
       "      <td>49.511283</td>\n",
       "      <td>B004_CL_reg4</td>\n",
       "      <td>1</td>\n",
       "    </tr>\n",
       "    <tr>\n",
       "      <th>4</th>\n",
       "      <td>CD4+ T cell</td>\n",
       "      <td>DC</td>\n",
       "      <td>74.379227</td>\n",
       "      <td>B004_CL_reg4</td>\n",
       "      <td>1</td>\n",
       "    </tr>\n",
       "    <tr>\n",
       "      <th>5</th>\n",
       "      <td>CD4+ T cell</td>\n",
       "      <td>Endothelial</td>\n",
       "      <td>54.441950</td>\n",
       "      <td>B004_CL_reg4</td>\n",
       "      <td>1</td>\n",
       "    </tr>\n",
       "  </tbody>\n",
       "</table>\n",
       "</div>"
      ],
      "text/plain": [
       "     celltype1         celltype2  mean_dist unique_region  iteration\n",
       "1  CD4+ T cell       CD4+ T cell  65.669129  B004_CL_reg4          1\n",
       "2  CD4+ T cell  CD66+ Enterocyte  43.990282  B004_CL_reg4          1\n",
       "3  CD4+ T cell       CD8+ T cell  49.511283  B004_CL_reg4          1\n",
       "4  CD4+ T cell                DC  74.379227  B004_CL_reg4          1\n",
       "5  CD4+ T cell       Endothelial  54.441950  B004_CL_reg4          1"
      ]
     },
     "execution_count": 17,
     "metadata": {},
     "output_type": "execute_result"
    }
   ],
   "source": [
    "iterated_triangulation_distances_shuf.head()"
   ]
  },
  {
   "cell_type": "code",
   "execution_count": null,
   "metadata": {},
   "outputs": [],
   "source": [
    "jupyter notebook --generate-config"
   ]
  },
  {
   "cell_type": "code",
   "execution_count": 2,
   "metadata": {},
   "outputs": [],
   "source": [
    "def calculate_distance_permutation(adata, \n",
    "                                   num_iterations, \n",
    "                                   x_pos, y_pos, \n",
    "                                   cell_type,\n",
    "                                   comparison, \n",
    "                                   region, \n",
    "                                   metadata_columns,\n",
    "                                   min_observation_per_region = 5,\n",
    "                                   sig_p_val = 0.05,\n",
    "                                   num_cores = 2):\n",
    "    \n",
    "    df = adata.obs\n",
    "    df[\"index\"] = df.index\n",
    "    \n",
    "    print(\"Calculating observed triangulation distances\")\n",
    "    \n",
    "    triangulation_distances_obs = get_triangulation_distances(df_input = df, \n",
    "                                     id = \"index\", \n",
    "                                     x_pos = x_pos, y_pos = y_pos, \n",
    "                                     cell_type = cell_type, \n",
    "                                     region = region, \n",
    "                                     num_cores=num_cores)\n",
    "    \n",
    "    print(\"Calculating iterated shuffled triangulation distances\")\n",
    "    \n",
    "    iterated_triangulation_distances_shuf = iterate_triangulation_distances(df_input = df, \n",
    "                                num_iterations = num_iterations, \n",
    "                                id = \"index\", \n",
    "                                x_pos = x_pos, y_pos = y_pos, \n",
    "                                cell_type = cell_type, \n",
    "                                region = region, \n",
    "                                num_cores=num_cores)\n",
    "    \n",
    "    metadata = df[metadata_columns]\n",
    "    \n",
    "    print(\"Identifying significant interactions\")\n",
    "    \n",
    "    distance_pvals_sig = identify_significant_interactions(triangulation_distances_obs, iterated_triangulation_distances_shuf, metadata, \n",
    "                                                           comparison = comparison, \n",
    "                                                           min_observation_per_region = min_observation_per_region, \n",
    "                                                           sig_p_val = sig_p_val)\n",
    "                                \n",
    "    return(distance_pvals_sig)"
   ]
  },
  {
   "cell_type": "code",
   "execution_count": 6,
   "metadata": {},
   "outputs": [
    {
     "ename": "AttributeError",
     "evalue": "'function' object has no attribute 'head'",
     "output_type": "error",
     "traceback": [
      "\u001b[0;31m---------------------------------------------------------------------------\u001b[0m",
      "\u001b[0;31mAttributeError\u001b[0m                            Traceback (most recent call last)",
      "\u001b[1;32m/Users/timnoahkempchen/Desktop/SAP5/notebook/Manuscript_notebooks/distance_permutation_analysis.ipynb Cell 16\u001b[0m line \u001b[0;36m1\n\u001b[0;32m----> <a href='vscode-notebook-cell:/Users/timnoahkempchen/Desktop/SAP5/notebook/Manuscript_notebooks/distance_permutation_analysis.ipynb#X35sZmlsZQ%3D%3D?line=0'>1</a>\u001b[0m triangulation_distances\u001b[39m.\u001b[39;49mhead()\n",
      "\u001b[0;31mAttributeError\u001b[0m: 'function' object has no attribute 'head'"
     ]
    }
   ],
   "source": [
    "triangulation_distances.head()"
   ]
  },
  {
   "cell_type": "code",
   "execution_count": 3,
   "metadata": {},
   "outputs": [],
   "source": [
    "# load triangulation distances from csv\n",
    "triangulation_distances = pd.read_csv(\"/Users/timnoahkempchen/Downloads/triangulation_distances.csv\", index_col=0)\n",
    "iterated_triangulation_distances = pd.read_csv(\"/Users/timnoahkempchen/Downloads/iterated_triangulation_distances.csv\", index_col=0)\n",
    "metadata = pd.read_csv(\"/Users/timnoahkempchen/Downloads/metadata.csv\", index_col=0)"
   ]
  },
  {
   "cell_type": "code",
   "execution_count": 4,
   "metadata": {},
   "outputs": [
    {
     "name": "stderr",
     "output_type": "stream",
     "text": [
      "R[write to console]: Fehler in merge.data.frame(x = triangulation_distances, y = metadata, all.x = TRUE) : \n",
      "  Vektoren negativer Länge sind nicht erlaubt\n",
      "\n"
     ]
    },
    {
     "ename": "RRuntimeError",
     "evalue": "Fehler in merge.data.frame(x = triangulation_distances, y = metadata, all.x = TRUE) : \n  Vektoren negativer Länge sind nicht erlaubt\n",
     "output_type": "error",
     "traceback": [
      "\u001b[0;31m---------------------------------------------------------------------------\u001b[0m",
      "\u001b[0;31mRRuntimeError\u001b[0m                             Traceback (most recent call last)",
      "\u001b[1;32m/Users/timnoahkempchen/Desktop/SAP5/notebook/Manuscript_notebooks/distance_permutation_analysis.ipynb Cell 19\u001b[0m line \u001b[0;36m1\n\u001b[0;32m----> <a href='vscode-notebook-cell:/Users/timnoahkempchen/Desktop/SAP5/notebook/Manuscript_notebooks/distance_permutation_analysis.ipynb#X32sZmlsZQ%3D%3D?line=0'>1</a>\u001b[0m distance_pvals_sig \u001b[39m=\u001b[39m identify_significant_interactions(triangulation_distances, iterated_triangulation_distances, metadata, \n\u001b[1;32m      <a href='vscode-notebook-cell:/Users/timnoahkempchen/Desktop/SAP5/notebook/Manuscript_notebooks/distance_permutation_analysis.ipynb#X32sZmlsZQ%3D%3D?line=1'>2</a>\u001b[0m                                                            comparison \u001b[39m=\u001b[39;49m \u001b[39m\"\u001b[39;49m\u001b[39mtissue\u001b[39;49m\u001b[39m\"\u001b[39;49m, \n\u001b[1;32m      <a href='vscode-notebook-cell:/Users/timnoahkempchen/Desktop/SAP5/notebook/Manuscript_notebooks/distance_permutation_analysis.ipynb#X32sZmlsZQ%3D%3D?line=2'>3</a>\u001b[0m                                                            min_observation_per_region \u001b[39m=\u001b[39;49m \u001b[39m5\u001b[39;49m, \n\u001b[1;32m      <a href='vscode-notebook-cell:/Users/timnoahkempchen/Desktop/SAP5/notebook/Manuscript_notebooks/distance_permutation_analysis.ipynb#X32sZmlsZQ%3D%3D?line=3'>4</a>\u001b[0m                                                            sig_p_val \u001b[39m=\u001b[39;49m \u001b[39m0.05\u001b[39;49m)\n",
      "File \u001b[0;32m~/Desktop/SAP5/src/python_R_wrapper.py:798\u001b[0m, in \u001b[0;36midentify_significant_interactions\u001b[0;34m(triangulation_distances, iterated_triangulation_distances, metadata, comparison, min_observation_per_region, sig_p_val, distance_threshold)\u001b[0m\n\u001b[1;32m    796\u001b[0m     r_df2 \u001b[39m=\u001b[39m robjects\u001b[39m.\u001b[39mconversion\u001b[39m.\u001b[39mpy2rpy(iterated_triangulation_distances)\n\u001b[1;32m    797\u001b[0m     r_df3 \u001b[39m=\u001b[39m robjects\u001b[39m.\u001b[39mconversion\u001b[39m.\u001b[39mpy2rpy(metadata)\n\u001b[0;32m--> 798\u001b[0m result \u001b[39m=\u001b[39m r_func(r_df1, r_df2, r_df3, comparison, min_observation_per_region, sig_p_val)\n",
      "File \u001b[0;32m~/opt/anaconda3/envs/spatial_analysis_environment/lib/python3.10/site-packages/rpy2/robjects/functions.py:208\u001b[0m, in \u001b[0;36mSignatureTranslatedFunction.__call__\u001b[0;34m(self, *args, **kwargs)\u001b[0m\n\u001b[1;32m    206\u001b[0m         v \u001b[39m=\u001b[39m kwargs\u001b[39m.\u001b[39mpop(k)\n\u001b[1;32m    207\u001b[0m         kwargs[r_k] \u001b[39m=\u001b[39m v\n\u001b[0;32m--> 208\u001b[0m \u001b[39mreturn\u001b[39;00m (\u001b[39msuper\u001b[39;49m(SignatureTranslatedFunction, \u001b[39mself\u001b[39;49m)\n\u001b[1;32m    209\u001b[0m         \u001b[39m.\u001b[39;49m\u001b[39m__call__\u001b[39;49m(\u001b[39m*\u001b[39;49margs, \u001b[39m*\u001b[39;49m\u001b[39m*\u001b[39;49mkwargs))\n",
      "File \u001b[0;32m~/opt/anaconda3/envs/spatial_analysis_environment/lib/python3.10/site-packages/rpy2/robjects/functions.py:131\u001b[0m, in \u001b[0;36mFunction.__call__\u001b[0;34m(self, *args, **kwargs)\u001b[0m\n\u001b[1;32m    129\u001b[0m     \u001b[39melse\u001b[39;00m:\n\u001b[1;32m    130\u001b[0m         new_kwargs[k] \u001b[39m=\u001b[39m cv\u001b[39m.\u001b[39mpy2rpy(v)\n\u001b[0;32m--> 131\u001b[0m res \u001b[39m=\u001b[39m \u001b[39msuper\u001b[39;49m(Function, \u001b[39mself\u001b[39;49m)\u001b[39m.\u001b[39;49m\u001b[39m__call__\u001b[39;49m(\u001b[39m*\u001b[39;49mnew_args, \u001b[39m*\u001b[39;49m\u001b[39m*\u001b[39;49mnew_kwargs)\n\u001b[1;32m    132\u001b[0m res \u001b[39m=\u001b[39m cv\u001b[39m.\u001b[39mrpy2py(res)\n\u001b[1;32m    133\u001b[0m \u001b[39mreturn\u001b[39;00m res\n",
      "File \u001b[0;32m~/opt/anaconda3/envs/spatial_analysis_environment/lib/python3.10/site-packages/rpy2/rinterface_lib/conversion.py:45\u001b[0m, in \u001b[0;36m_cdata_res_to_rinterface.<locals>._\u001b[0;34m(*args, **kwargs)\u001b[0m\n\u001b[1;32m     44\u001b[0m \u001b[39mdef\u001b[39;00m \u001b[39m_\u001b[39m(\u001b[39m*\u001b[39margs, \u001b[39m*\u001b[39m\u001b[39m*\u001b[39mkwargs):\n\u001b[0;32m---> 45\u001b[0m     cdata \u001b[39m=\u001b[39m function(\u001b[39m*\u001b[39;49margs, \u001b[39m*\u001b[39;49m\u001b[39m*\u001b[39;49mkwargs)\n\u001b[1;32m     46\u001b[0m     \u001b[39m# TODO: test cdata is of the expected CType\u001b[39;00m\n\u001b[1;32m     47\u001b[0m     \u001b[39mreturn\u001b[39;00m _cdata_to_rinterface(cdata)\n",
      "File \u001b[0;32m~/opt/anaconda3/envs/spatial_analysis_environment/lib/python3.10/site-packages/rpy2/rinterface.py:873\u001b[0m, in \u001b[0;36mSexpClosure.__call__\u001b[0;34m(self, *args, **kwargs)\u001b[0m\n\u001b[1;32m    866\u001b[0m     res \u001b[39m=\u001b[39m rmemory\u001b[39m.\u001b[39mprotect(\n\u001b[1;32m    867\u001b[0m         openrlib\u001b[39m.\u001b[39mrlib\u001b[39m.\u001b[39mR_tryEval(\n\u001b[1;32m    868\u001b[0m             call_r,\n\u001b[1;32m    869\u001b[0m             call_context\u001b[39m.\u001b[39m__sexp__\u001b[39m.\u001b[39m_cdata,\n\u001b[1;32m    870\u001b[0m             error_occured)\n\u001b[1;32m    871\u001b[0m     )\n\u001b[1;32m    872\u001b[0m     \u001b[39mif\u001b[39;00m error_occured[\u001b[39m0\u001b[39m]:\n\u001b[0;32m--> 873\u001b[0m         \u001b[39mraise\u001b[39;00m embedded\u001b[39m.\u001b[39mRRuntimeError(_rinterface\u001b[39m.\u001b[39m_geterrmessage())\n\u001b[1;32m    874\u001b[0m \u001b[39mreturn\u001b[39;00m res\n",
      "\u001b[0;31mRRuntimeError\u001b[0m: Fehler in merge.data.frame(x = triangulation_distances, y = metadata, all.x = TRUE) : \n  Vektoren negativer Länge sind nicht erlaubt\n"
     ]
    }
   ],
   "source": [
    "distance_pvals_sig = identify_significant_interactions(triangulation_distances, iterated_triangulation_distances, metadata, \n",
    "                                                           comparison = \"tissue\", \n",
    "                                                           min_observation_per_region = 5, \n",
    "                                                           sig_p_val = 0.05)"
   ]
  },
  {
   "cell_type": "code",
   "execution_count": 20,
   "metadata": {},
   "outputs": [
    {
     "name": "stdout",
     "output_type": "stream",
     "text": [
      "Calculating observed triangulation distances\n",
      "  |======================================================================| 100%\n"
     ]
    },
    {
     "ename": "KeyboardInterrupt",
     "evalue": "",
     "output_type": "error",
     "traceback": [
      "\u001b[0;31m---------------------------------------------------------------------------\u001b[0m",
      "\u001b[0;31mKeyboardInterrupt\u001b[0m                         Traceback (most recent call last)",
      "\u001b[1;32m/Users/timnoahkempchen/Desktop/SAP5/notebook/Manuscript_notebooks/distance_permutation_analysis.ipynb Cell 15\u001b[0m line \u001b[0;36m1\n\u001b[0;32m----> <a href='vscode-notebook-cell:/Users/timnoahkempchen/Desktop/SAP5/notebook/Manuscript_notebooks/distance_permutation_analysis.ipynb#X31sZmlsZQ%3D%3D?line=0'>1</a>\u001b[0m distance_pvals_sig \u001b[39m=\u001b[39m calculate_distance_permutation(adata, \n\u001b[1;32m      <a href='vscode-notebook-cell:/Users/timnoahkempchen/Desktop/SAP5/notebook/Manuscript_notebooks/distance_permutation_analysis.ipynb#X31sZmlsZQ%3D%3D?line=1'>2</a>\u001b[0m                                    num_iterations \u001b[39m=\u001b[39;49m \u001b[39m2\u001b[39;49m, \n\u001b[1;32m      <a href='vscode-notebook-cell:/Users/timnoahkempchen/Desktop/SAP5/notebook/Manuscript_notebooks/distance_permutation_analysis.ipynb#X31sZmlsZQ%3D%3D?line=2'>3</a>\u001b[0m                                    x_pos \u001b[39m=\u001b[39;49m \u001b[39m\"\u001b[39;49m\u001b[39mx\u001b[39;49m\u001b[39m\"\u001b[39;49m, y_pos \u001b[39m=\u001b[39;49m \u001b[39m\"\u001b[39;49m\u001b[39my\u001b[39;49m\u001b[39m\"\u001b[39;49m, \n\u001b[1;32m      <a href='vscode-notebook-cell:/Users/timnoahkempchen/Desktop/SAP5/notebook/Manuscript_notebooks/distance_permutation_analysis.ipynb#X31sZmlsZQ%3D%3D?line=3'>4</a>\u001b[0m                                    cell_type \u001b[39m=\u001b[39;49m \u001b[39m\"\u001b[39;49m\u001b[39mcelltype\u001b[39;49m\u001b[39m\"\u001b[39;49m,\n\u001b[1;32m      <a href='vscode-notebook-cell:/Users/timnoahkempchen/Desktop/SAP5/notebook/Manuscript_notebooks/distance_permutation_analysis.ipynb#X31sZmlsZQ%3D%3D?line=4'>5</a>\u001b[0m                                    region \u001b[39m=\u001b[39;49m \u001b[39m\"\u001b[39;49m\u001b[39munique_region\u001b[39;49m\u001b[39m\"\u001b[39;49m,\n\u001b[1;32m      <a href='vscode-notebook-cell:/Users/timnoahkempchen/Desktop/SAP5/notebook/Manuscript_notebooks/distance_permutation_analysis.ipynb#X31sZmlsZQ%3D%3D?line=5'>6</a>\u001b[0m                                    comparison \u001b[39m=\u001b[39;49m \u001b[39m\"\u001b[39;49m\u001b[39mtissue\u001b[39;49m\u001b[39m\"\u001b[39;49m, \n\u001b[1;32m      <a href='vscode-notebook-cell:/Users/timnoahkempchen/Desktop/SAP5/notebook/Manuscript_notebooks/distance_permutation_analysis.ipynb#X31sZmlsZQ%3D%3D?line=6'>7</a>\u001b[0m                                    metadata_columns \u001b[39m=\u001b[39;49m [\u001b[39m\"\u001b[39;49m\u001b[39mdonor\u001b[39;49m\u001b[39m\"\u001b[39;49m, \u001b[39m\"\u001b[39;49m\u001b[39mtissue\u001b[39;49m\u001b[39m\"\u001b[39;49m, \u001b[39m\"\u001b[39;49m\u001b[39mregion\u001b[39;49m\u001b[39m\"\u001b[39;49m, \u001b[39m\"\u001b[39;49m\u001b[39munique_region\u001b[39;49m\u001b[39m\"\u001b[39;49m],\n\u001b[1;32m      <a href='vscode-notebook-cell:/Users/timnoahkempchen/Desktop/SAP5/notebook/Manuscript_notebooks/distance_permutation_analysis.ipynb#X31sZmlsZQ%3D%3D?line=7'>8</a>\u001b[0m                                    min_observation_per_region \u001b[39m=\u001b[39;49m \u001b[39m5\u001b[39;49m,\n\u001b[1;32m      <a href='vscode-notebook-cell:/Users/timnoahkempchen/Desktop/SAP5/notebook/Manuscript_notebooks/distance_permutation_analysis.ipynb#X31sZmlsZQ%3D%3D?line=8'>9</a>\u001b[0m                                    sig_p_val \u001b[39m=\u001b[39;49m \u001b[39m0.05\u001b[39;49m,\n\u001b[1;32m     <a href='vscode-notebook-cell:/Users/timnoahkempchen/Desktop/SAP5/notebook/Manuscript_notebooks/distance_permutation_analysis.ipynb#X31sZmlsZQ%3D%3D?line=9'>10</a>\u001b[0m                                    num_cores \u001b[39m=\u001b[39;49m \u001b[39m10\u001b[39;49m)\n",
      "\u001b[1;32m/Users/timnoahkempchen/Desktop/SAP5/notebook/Manuscript_notebooks/distance_permutation_analysis.ipynb Cell 15\u001b[0m line \u001b[0;36m1\n\u001b[1;32m     <a href='vscode-notebook-cell:/Users/timnoahkempchen/Desktop/SAP5/notebook/Manuscript_notebooks/distance_permutation_analysis.ipynb#X31sZmlsZQ%3D%3D?line=12'>13</a>\u001b[0m df[\u001b[39m\"\u001b[39m\u001b[39mindex\u001b[39m\u001b[39m\"\u001b[39m] \u001b[39m=\u001b[39m df\u001b[39m.\u001b[39mindex\n\u001b[1;32m     <a href='vscode-notebook-cell:/Users/timnoahkempchen/Desktop/SAP5/notebook/Manuscript_notebooks/distance_permutation_analysis.ipynb#X31sZmlsZQ%3D%3D?line=14'>15</a>\u001b[0m \u001b[39mprint\u001b[39m(\u001b[39m\"\u001b[39m\u001b[39mCalculating observed triangulation distances\u001b[39m\u001b[39m\"\u001b[39m)\n\u001b[0;32m---> <a href='vscode-notebook-cell:/Users/timnoahkempchen/Desktop/SAP5/notebook/Manuscript_notebooks/distance_permutation_analysis.ipynb#X31sZmlsZQ%3D%3D?line=16'>17</a>\u001b[0m triangulation_distances \u001b[39m=\u001b[39m get_triangulation_distances(df_input \u001b[39m=\u001b[39;49m df, \n\u001b[1;32m     <a href='vscode-notebook-cell:/Users/timnoahkempchen/Desktop/SAP5/notebook/Manuscript_notebooks/distance_permutation_analysis.ipynb#X31sZmlsZQ%3D%3D?line=17'>18</a>\u001b[0m                                  \u001b[39mid\u001b[39;49m \u001b[39m=\u001b[39;49m \u001b[39m\"\u001b[39;49m\u001b[39mindex\u001b[39;49m\u001b[39m\"\u001b[39;49m, \n\u001b[1;32m     <a href='vscode-notebook-cell:/Users/timnoahkempchen/Desktop/SAP5/notebook/Manuscript_notebooks/distance_permutation_analysis.ipynb#X31sZmlsZQ%3D%3D?line=18'>19</a>\u001b[0m                                  x_pos \u001b[39m=\u001b[39;49m x_pos, y_pos \u001b[39m=\u001b[39;49m y_pos, \n\u001b[1;32m     <a href='vscode-notebook-cell:/Users/timnoahkempchen/Desktop/SAP5/notebook/Manuscript_notebooks/distance_permutation_analysis.ipynb#X31sZmlsZQ%3D%3D?line=19'>20</a>\u001b[0m                                  cell_type \u001b[39m=\u001b[39;49m cell_type, \n\u001b[1;32m     <a href='vscode-notebook-cell:/Users/timnoahkempchen/Desktop/SAP5/notebook/Manuscript_notebooks/distance_permutation_analysis.ipynb#X31sZmlsZQ%3D%3D?line=20'>21</a>\u001b[0m                                  region \u001b[39m=\u001b[39;49m region, \n\u001b[1;32m     <a href='vscode-notebook-cell:/Users/timnoahkempchen/Desktop/SAP5/notebook/Manuscript_notebooks/distance_permutation_analysis.ipynb#X31sZmlsZQ%3D%3D?line=21'>22</a>\u001b[0m                                  num_cores\u001b[39m=\u001b[39;49mnum_cores)\n\u001b[1;32m     <a href='vscode-notebook-cell:/Users/timnoahkempchen/Desktop/SAP5/notebook/Manuscript_notebooks/distance_permutation_analysis.ipynb#X31sZmlsZQ%3D%3D?line=23'>24</a>\u001b[0m \u001b[39mprint\u001b[39m(\u001b[39m\"\u001b[39m\u001b[39mCalculating iterated shuffled triangulation distances\u001b[39m\u001b[39m\"\u001b[39m)\n\u001b[1;32m     <a href='vscode-notebook-cell:/Users/timnoahkempchen/Desktop/SAP5/notebook/Manuscript_notebooks/distance_permutation_analysis.ipynb#X31sZmlsZQ%3D%3D?line=25'>26</a>\u001b[0m iterated_triangulation_distances \u001b[39m=\u001b[39m iterate_triangulation_distances(df_input \u001b[39m=\u001b[39m df, \n\u001b[1;32m     <a href='vscode-notebook-cell:/Users/timnoahkempchen/Desktop/SAP5/notebook/Manuscript_notebooks/distance_permutation_analysis.ipynb#X31sZmlsZQ%3D%3D?line=26'>27</a>\u001b[0m                             num_iterations \u001b[39m=\u001b[39m num_iterations, \n\u001b[1;32m     <a href='vscode-notebook-cell:/Users/timnoahkempchen/Desktop/SAP5/notebook/Manuscript_notebooks/distance_permutation_analysis.ipynb#X31sZmlsZQ%3D%3D?line=27'>28</a>\u001b[0m                             \u001b[39mid\u001b[39m \u001b[39m=\u001b[39m \u001b[39m\"\u001b[39m\u001b[39mindex\u001b[39m\u001b[39m\"\u001b[39m, \n\u001b[0;32m   (...)\u001b[0m\n\u001b[1;32m     <a href='vscode-notebook-cell:/Users/timnoahkempchen/Desktop/SAP5/notebook/Manuscript_notebooks/distance_permutation_analysis.ipynb#X31sZmlsZQ%3D%3D?line=30'>31</a>\u001b[0m                             region \u001b[39m=\u001b[39m region, \n\u001b[1;32m     <a href='vscode-notebook-cell:/Users/timnoahkempchen/Desktop/SAP5/notebook/Manuscript_notebooks/distance_permutation_analysis.ipynb#X31sZmlsZQ%3D%3D?line=31'>32</a>\u001b[0m                             num_cores\u001b[39m=\u001b[39mnum_cores)\n",
      "\u001b[1;32m/Users/timnoahkempchen/Desktop/SAP5/notebook/Manuscript_notebooks/distance_permutation_analysis.ipynb Cell 15\u001b[0m line \u001b[0;36m7\n\u001b[1;32m    <a href='vscode-notebook-cell:/Users/timnoahkempchen/Desktop/SAP5/notebook/Manuscript_notebooks/distance_permutation_analysis.ipynb#X31sZmlsZQ%3D%3D?line=743'>744</a>\u001b[0m result \u001b[39m=\u001b[39m r_func(r_df, \u001b[39mid\u001b[39m, x_pos, y_pos, cell_type, region, num_cores, calc_avg_distance, csv_output)\n\u001b[1;32m    <a href='vscode-notebook-cell:/Users/timnoahkempchen/Desktop/SAP5/notebook/Manuscript_notebooks/distance_permutation_analysis.ipynb#X31sZmlsZQ%3D%3D?line=744'>745</a>\u001b[0m \u001b[39mwith\u001b[39;00m localconverter(robjects\u001b[39m.\u001b[39mdefault_converter \u001b[39m+\u001b[39m pandas2ri\u001b[39m.\u001b[39mconverter):\n\u001b[0;32m--> <a href='vscode-notebook-cell:/Users/timnoahkempchen/Desktop/SAP5/notebook/Manuscript_notebooks/distance_permutation_analysis.ipynb#X31sZmlsZQ%3D%3D?line=745'>746</a>\u001b[0m     df_result \u001b[39m=\u001b[39m robjects\u001b[39m.\u001b[39;49mconversion\u001b[39m.\u001b[39;49mrpy2py(result)\n\u001b[1;32m    <a href='vscode-notebook-cell:/Users/timnoahkempchen/Desktop/SAP5/notebook/Manuscript_notebooks/distance_permutation_analysis.ipynb#X31sZmlsZQ%3D%3D?line=746'>747</a>\u001b[0m \u001b[39mreturn\u001b[39;00m df_result\n",
      "File \u001b[0;32m~/opt/anaconda3/envs/spatial_analysis_environment/lib/python3.10/site-packages/rpy2/robjects/conversion.py:415\u001b[0m, in \u001b[0;36m_deprecated_rpy2py\u001b[0;34m(obj)\u001b[0m\n\u001b[1;32m    412\u001b[0m \u001b[39mdef\u001b[39;00m \u001b[39m_deprecated_rpy2py\u001b[39m(\n\u001b[1;32m    413\u001b[0m         obj: Any\n\u001b[1;32m    414\u001b[0m ) \u001b[39m-\u001b[39m\u001b[39m>\u001b[39m _rinterface_capi\u001b[39m.\u001b[39mSupportsSEXP:\n\u001b[0;32m--> 415\u001b[0m     \u001b[39mreturn\u001b[39;00m converter_ctx\u001b[39m.\u001b[39;49mget(\u001b[39m'\u001b[39;49m\u001b[39mconverter\u001b[39;49m\u001b[39m'\u001b[39;49m)\u001b[39m.\u001b[39;49mrpy2py(obj)\n",
      "File \u001b[0;32m~/opt/anaconda3/envs/spatial_analysis_environment/lib/python3.10/functools.py:889\u001b[0m, in \u001b[0;36msingledispatch.<locals>.wrapper\u001b[0;34m(*args, **kw)\u001b[0m\n\u001b[1;32m    885\u001b[0m \u001b[39mif\u001b[39;00m \u001b[39mnot\u001b[39;00m args:\n\u001b[1;32m    886\u001b[0m     \u001b[39mraise\u001b[39;00m \u001b[39mTypeError\u001b[39;00m(\u001b[39mf\u001b[39m\u001b[39m'\u001b[39m\u001b[39m{\u001b[39;00mfuncname\u001b[39m}\u001b[39;00m\u001b[39m requires at least \u001b[39m\u001b[39m'\u001b[39m\n\u001b[1;32m    887\u001b[0m                     \u001b[39m'\u001b[39m\u001b[39m1 positional argument\u001b[39m\u001b[39m'\u001b[39m)\n\u001b[0;32m--> 889\u001b[0m \u001b[39mreturn\u001b[39;00m dispatch(args[\u001b[39m0\u001b[39;49m]\u001b[39m.\u001b[39;49m\u001b[39m__class__\u001b[39;49m)(\u001b[39m*\u001b[39;49margs, \u001b[39m*\u001b[39;49m\u001b[39m*\u001b[39;49mkw)\n",
      "File \u001b[0;32m~/opt/anaconda3/envs/spatial_analysis_environment/lib/python3.10/site-packages/rpy2/robjects/pandas2ri.py:337\u001b[0m, in \u001b[0;36mrpy2py_dataframe\u001b[0;34m(obj)\u001b[0m\n\u001b[1;32m    331\u001b[0m colnames_lst \u001b[39m=\u001b[39m []\n\u001b[1;32m    332\u001b[0m od \u001b[39m=\u001b[39m OrderedDict(\n\u001b[1;32m    333\u001b[0m     (i, rpy2py(col) \u001b[39mif\u001b[39;00m \u001b[39misinstance\u001b[39m(col, rinterface\u001b[39m.\u001b[39mSexpVector) \u001b[39melse\u001b[39;00m col)\n\u001b[1;32m    334\u001b[0m     \u001b[39mfor\u001b[39;00m i, col \u001b[39min\u001b[39;00m \u001b[39menumerate\u001b[39m(_flatten_dataframe(obj, colnames_lst))\n\u001b[1;32m    335\u001b[0m )\n\u001b[0;32m--> 337\u001b[0m res \u001b[39m=\u001b[39m pandas\u001b[39m.\u001b[39;49mDataFrame\u001b[39m.\u001b[39;49mfrom_dict(od)\n\u001b[1;32m    338\u001b[0m res\u001b[39m.\u001b[39mcolumns \u001b[39m=\u001b[39m \u001b[39mtuple\u001b[39m(\u001b[39m'\u001b[39m\u001b[39m.\u001b[39m\u001b[39m'\u001b[39m\u001b[39m.\u001b[39mjoin(_) \u001b[39mif\u001b[39;00m \u001b[39misinstance\u001b[39m(_, \u001b[39mlist\u001b[39m) \u001b[39melse\u001b[39;00m _ \u001b[39mfor\u001b[39;00m _ \u001b[39min\u001b[39;00m colnames_lst)\n\u001b[1;32m    339\u001b[0m res\u001b[39m.\u001b[39mindex \u001b[39m=\u001b[39m obj\u001b[39m.\u001b[39mrownames\n",
      "File \u001b[0;32m~/opt/anaconda3/envs/spatial_analysis_environment/lib/python3.10/site-packages/pandas/core/frame.py:1764\u001b[0m, in \u001b[0;36mDataFrame.from_dict\u001b[0;34m(cls, data, orient, dtype, columns)\u001b[0m\n\u001b[1;32m   1758\u001b[0m     \u001b[39mraise\u001b[39;00m \u001b[39mValueError\u001b[39;00m(\n\u001b[1;32m   1759\u001b[0m         \u001b[39mf\u001b[39m\u001b[39m\"\u001b[39m\u001b[39mExpected \u001b[39m\u001b[39m'\u001b[39m\u001b[39mindex\u001b[39m\u001b[39m'\u001b[39m\u001b[39m, \u001b[39m\u001b[39m'\u001b[39m\u001b[39mcolumns\u001b[39m\u001b[39m'\u001b[39m\u001b[39m or \u001b[39m\u001b[39m'\u001b[39m\u001b[39mtight\u001b[39m\u001b[39m'\u001b[39m\u001b[39m for orient parameter. \u001b[39m\u001b[39m\"\u001b[39m\n\u001b[1;32m   1760\u001b[0m         \u001b[39mf\u001b[39m\u001b[39m\"\u001b[39m\u001b[39mGot \u001b[39m\u001b[39m'\u001b[39m\u001b[39m{\u001b[39;00morient\u001b[39m}\u001b[39;00m\u001b[39m'\u001b[39m\u001b[39m instead\u001b[39m\u001b[39m\"\u001b[39m\n\u001b[1;32m   1761\u001b[0m     )\n\u001b[1;32m   1763\u001b[0m \u001b[39mif\u001b[39;00m orient \u001b[39m!=\u001b[39m \u001b[39m\"\u001b[39m\u001b[39mtight\u001b[39m\u001b[39m\"\u001b[39m:\n\u001b[0;32m-> 1764\u001b[0m     \u001b[39mreturn\u001b[39;00m \u001b[39mcls\u001b[39;49m(data, index\u001b[39m=\u001b[39;49mindex, columns\u001b[39m=\u001b[39;49mcolumns, dtype\u001b[39m=\u001b[39;49mdtype)\n\u001b[1;32m   1765\u001b[0m \u001b[39melse\u001b[39;00m:\n\u001b[1;32m   1766\u001b[0m     realdata \u001b[39m=\u001b[39m data[\u001b[39m\"\u001b[39m\u001b[39mdata\u001b[39m\u001b[39m\"\u001b[39m]\n",
      "File \u001b[0;32m~/opt/anaconda3/envs/spatial_analysis_environment/lib/python3.10/site-packages/pandas/core/frame.py:664\u001b[0m, in \u001b[0;36mDataFrame.__init__\u001b[0;34m(self, data, index, columns, dtype, copy)\u001b[0m\n\u001b[1;32m    658\u001b[0m     mgr \u001b[39m=\u001b[39m \u001b[39mself\u001b[39m\u001b[39m.\u001b[39m_init_mgr(\n\u001b[1;32m    659\u001b[0m         data, axes\u001b[39m=\u001b[39m{\u001b[39m\"\u001b[39m\u001b[39mindex\u001b[39m\u001b[39m\"\u001b[39m: index, \u001b[39m\"\u001b[39m\u001b[39mcolumns\u001b[39m\u001b[39m\"\u001b[39m: columns}, dtype\u001b[39m=\u001b[39mdtype, copy\u001b[39m=\u001b[39mcopy\n\u001b[1;32m    660\u001b[0m     )\n\u001b[1;32m    662\u001b[0m \u001b[39melif\u001b[39;00m \u001b[39misinstance\u001b[39m(data, \u001b[39mdict\u001b[39m):\n\u001b[1;32m    663\u001b[0m     \u001b[39m# GH#38939 de facto copy defaults to False only in non-dict cases\u001b[39;00m\n\u001b[0;32m--> 664\u001b[0m     mgr \u001b[39m=\u001b[39m dict_to_mgr(data, index, columns, dtype\u001b[39m=\u001b[39;49mdtype, copy\u001b[39m=\u001b[39;49mcopy, typ\u001b[39m=\u001b[39;49mmanager)\n\u001b[1;32m    665\u001b[0m \u001b[39melif\u001b[39;00m \u001b[39misinstance\u001b[39m(data, ma\u001b[39m.\u001b[39mMaskedArray):\n\u001b[1;32m    666\u001b[0m     \u001b[39mimport\u001b[39;00m \u001b[39mnumpy\u001b[39;00m\u001b[39m.\u001b[39;00m\u001b[39mma\u001b[39;00m\u001b[39m.\u001b[39;00m\u001b[39mmrecords\u001b[39;00m \u001b[39mas\u001b[39;00m \u001b[39mmrecords\u001b[39;00m\n",
      "File \u001b[0;32m~/opt/anaconda3/envs/spatial_analysis_environment/lib/python3.10/site-packages/pandas/core/internals/construction.py:493\u001b[0m, in \u001b[0;36mdict_to_mgr\u001b[0;34m(data, index, columns, dtype, typ, copy)\u001b[0m\n\u001b[1;32m    489\u001b[0m     \u001b[39melse\u001b[39;00m:\n\u001b[1;32m    490\u001b[0m         \u001b[39m# dtype check to exclude e.g. range objects, scalars\u001b[39;00m\n\u001b[1;32m    491\u001b[0m         arrays \u001b[39m=\u001b[39m [x\u001b[39m.\u001b[39mcopy() \u001b[39mif\u001b[39;00m \u001b[39mhasattr\u001b[39m(x, \u001b[39m\"\u001b[39m\u001b[39mdtype\u001b[39m\u001b[39m\"\u001b[39m) \u001b[39melse\u001b[39;00m x \u001b[39mfor\u001b[39;00m x \u001b[39min\u001b[39;00m arrays]\n\u001b[0;32m--> 493\u001b[0m \u001b[39mreturn\u001b[39;00m arrays_to_mgr(arrays, columns, index, dtype\u001b[39m=\u001b[39;49mdtype, typ\u001b[39m=\u001b[39;49mtyp, consolidate\u001b[39m=\u001b[39;49mcopy)\n",
      "File \u001b[0;32m~/opt/anaconda3/envs/spatial_analysis_environment/lib/python3.10/site-packages/pandas/core/internals/construction.py:123\u001b[0m, in \u001b[0;36marrays_to_mgr\u001b[0;34m(arrays, columns, index, dtype, verify_integrity, typ, consolidate)\u001b[0m\n\u001b[1;32m    120\u001b[0m         index \u001b[39m=\u001b[39m ensure_index(index)\n\u001b[1;32m    122\u001b[0m     \u001b[39m# don't force copy because getting jammed in an ndarray anyway\u001b[39;00m\n\u001b[0;32m--> 123\u001b[0m     arrays \u001b[39m=\u001b[39m _homogenize(arrays, index, dtype)\n\u001b[1;32m    124\u001b[0m     \u001b[39m# _homogenize ensures\u001b[39;00m\n\u001b[1;32m    125\u001b[0m     \u001b[39m#  - all(len(x) == len(index) for x in arrays)\u001b[39;00m\n\u001b[1;32m    126\u001b[0m     \u001b[39m#  - all(x.ndim == 1 for x in arrays)\u001b[39;00m\n\u001b[0;32m   (...)\u001b[0m\n\u001b[1;32m    129\u001b[0m \n\u001b[1;32m    130\u001b[0m \u001b[39melse\u001b[39;00m:\n\u001b[1;32m    131\u001b[0m     index \u001b[39m=\u001b[39m ensure_index(index)\n",
      "File \u001b[0;32m~/opt/anaconda3/envs/spatial_analysis_environment/lib/python3.10/site-packages/pandas/core/internals/construction.py:617\u001b[0m, in \u001b[0;36m_homogenize\u001b[0;34m(data, index, dtype)\u001b[0m\n\u001b[1;32m    614\u001b[0m             val \u001b[39m=\u001b[39m \u001b[39mdict\u001b[39m(val)\n\u001b[1;32m    615\u001b[0m         val \u001b[39m=\u001b[39m lib\u001b[39m.\u001b[39mfast_multiget(val, oindex\u001b[39m.\u001b[39m_values, default\u001b[39m=\u001b[39mnp\u001b[39m.\u001b[39mnan)\n\u001b[0;32m--> 617\u001b[0m     val \u001b[39m=\u001b[39m sanitize_array(\n\u001b[1;32m    618\u001b[0m         val, index, dtype\u001b[39m=\u001b[39;49mdtype, copy\u001b[39m=\u001b[39;49m\u001b[39mFalse\u001b[39;49;00m, raise_cast_failure\u001b[39m=\u001b[39;49m\u001b[39mFalse\u001b[39;49;00m\n\u001b[1;32m    619\u001b[0m     )\n\u001b[1;32m    620\u001b[0m     com\u001b[39m.\u001b[39mrequire_length_match(val, index)\n\u001b[1;32m    622\u001b[0m homogenized\u001b[39m.\u001b[39mappend(val)\n",
      "File \u001b[0;32m~/opt/anaconda3/envs/spatial_analysis_environment/lib/python3.10/site-packages/pandas/core/construction.py:618\u001b[0m, in \u001b[0;36msanitize_array\u001b[0;34m(data, index, dtype, copy, raise_cast_failure, allow_2d)\u001b[0m\n\u001b[1;32m    616\u001b[0m     data \u001b[39m=\u001b[39m np\u001b[39m.\u001b[39marray(data, copy\u001b[39m=\u001b[39mcopy)\n\u001b[1;32m    617\u001b[0m \u001b[39melse\u001b[39;00m:\n\u001b[0;32m--> 618\u001b[0m     data \u001b[39m=\u001b[39m \u001b[39mlist\u001b[39;49m(data)\n\u001b[1;32m    620\u001b[0m \u001b[39mif\u001b[39;00m dtype \u001b[39mis\u001b[39;00m \u001b[39mnot\u001b[39;00m \u001b[39mNone\u001b[39;00m \u001b[39mor\u001b[39;00m \u001b[39mlen\u001b[39m(data) \u001b[39m==\u001b[39m \u001b[39m0\u001b[39m:\n\u001b[1;32m    621\u001b[0m     \u001b[39mtry\u001b[39;00m:\n",
      "File \u001b[0;32m~/opt/anaconda3/envs/spatial_analysis_environment/lib/python3.10/site-packages/rpy2/rinterface_lib/sexp.py:675\u001b[0m, in \u001b[0;36mSexpVectorAbstract.__iter__\u001b[0;34m(self)\u001b[0m\n\u001b[1;32m    673\u001b[0m \u001b[39mdef\u001b[39;00m \u001b[39m__iter__\u001b[39m(\u001b[39mself\u001b[39m) \u001b[39m-\u001b[39m\u001b[39m>\u001b[39m typing\u001b[39m.\u001b[39mIterator[typing\u001b[39m.\u001b[39mUnion[Sexp, VT, typing\u001b[39m.\u001b[39mAny]]:\n\u001b[1;32m    674\u001b[0m     \u001b[39mfor\u001b[39;00m i \u001b[39min\u001b[39;00m \u001b[39mrange\u001b[39m(\u001b[39mlen\u001b[39m(\u001b[39mself\u001b[39m)):\n\u001b[0;32m--> 675\u001b[0m         \u001b[39myield\u001b[39;00m \u001b[39mself\u001b[39;49m[i]\n",
      "File \u001b[0;32m~/opt/anaconda3/envs/spatial_analysis_environment/lib/python3.10/site-packages/rpy2/robjects/vectors.py:289\u001b[0m, in \u001b[0;36mVector.__getitem__\u001b[0;34m(self, i)\u001b[0m\n\u001b[1;32m    288\u001b[0m \u001b[39mdef\u001b[39;00m \u001b[39m__getitem__\u001b[39m(\u001b[39mself\u001b[39m, i):\n\u001b[0;32m--> 289\u001b[0m     res \u001b[39m=\u001b[39m \u001b[39msuper\u001b[39;49m()\u001b[39m.\u001b[39;49m\u001b[39m__getitem__\u001b[39;49m(i)\n\u001b[1;32m    291\u001b[0m     \u001b[39mif\u001b[39;00m \u001b[39misinstance\u001b[39m(res, Sexp):\n\u001b[1;32m    292\u001b[0m         res \u001b[39m=\u001b[39m conversion\u001b[39m.\u001b[39mget_conversion()\u001b[39m.\u001b[39mrpy2py(res)\n",
      "File \u001b[0;32m~/opt/anaconda3/envs/spatial_analysis_environment/lib/python3.10/site-packages/rpy2/rinterface_lib/sexp.py:737\u001b[0m, in \u001b[0;36mStrSexpVector.__getitem__\u001b[0;34m(self, i)\u001b[0m\n\u001b[1;32m    735\u001b[0m \u001b[39mif\u001b[39;00m \u001b[39misinstance\u001b[39m(i, \u001b[39mint\u001b[39m):\n\u001b[1;32m    736\u001b[0m     i_c \u001b[39m=\u001b[39m _rinterface\u001b[39m.\u001b[39m_python_index_to_c(cdata, i)\n\u001b[0;32m--> 737\u001b[0m     _ \u001b[39m=\u001b[39m _rinterface\u001b[39m.\u001b[39;49m_string_getitem(cdata, i_c)\n\u001b[1;32m    738\u001b[0m     \u001b[39mif\u001b[39;00m _ \u001b[39mis\u001b[39;00m \u001b[39mNone\u001b[39;00m:\n\u001b[1;32m    739\u001b[0m         res \u001b[39m=\u001b[39m na_values\u001b[39m.\u001b[39mNA_Character  \u001b[39m# type: ignore\u001b[39;00m\n",
      "File \u001b[0;32m~/opt/anaconda3/envs/spatial_analysis_environment/lib/python3.10/site-packages/rpy2/rinterface_lib/_rinterface_capi.py:281\u001b[0m, in \u001b[0;36m_string_getitem\u001b[0;34m(cdata, i)\u001b[0m\n\u001b[1;32m    280\u001b[0m \u001b[39mdef\u001b[39;00m \u001b[39m_string_getitem\u001b[39m(cdata: FFI\u001b[39m.\u001b[39mCData, i: \u001b[39mint\u001b[39m) \u001b[39m-\u001b[39m\u001b[39m>\u001b[39m typing\u001b[39m.\u001b[39mOptional[\u001b[39mstr\u001b[39m]:\n\u001b[0;32m--> 281\u001b[0m     elt \u001b[39m=\u001b[39m openrlib\u001b[39m.\u001b[39;49mrlib\u001b[39m.\u001b[39;49mSTRING_ELT(cdata, i)\n\u001b[1;32m    282\u001b[0m     \u001b[39mif\u001b[39;00m elt \u001b[39m==\u001b[39m openrlib\u001b[39m.\u001b[39mrlib\u001b[39m.\u001b[39mR_NaString:\n\u001b[1;32m    283\u001b[0m         res \u001b[39m=\u001b[39m \u001b[39mNone\u001b[39;00m\n",
      "\u001b[0;31mKeyboardInterrupt\u001b[0m: "
     ]
    }
   ],
   "source": [
    "distance_pvals_sig = calculate_distance_permutation(adata, \n",
    "                                   num_iterations = 2, \n",
    "                                   x_pos = \"x\", y_pos = \"y\", \n",
    "                                   cell_type = \"celltype\",\n",
    "                                   region = \"unique_region\",\n",
    "                                   comparison = \"tissue\", \n",
    "                                   metadata_columns = [\"donor\", \"tissue\", \"region\", \"unique_region\"],\n",
    "                                   min_observation_per_region = 5,\n",
    "                                   sig_p_val = 0.05,\n",
    "                                   num_cores = 10)"
   ]
  },
  {
   "cell_type": "code",
   "execution_count": 12,
   "metadata": {},
   "outputs": [],
   "source": [
    "iterated_triangulation_distances.head()\n",
    "\n",
    "# write to file\n",
    "triangulation_distances.to_csv(triangulation_output+\"iterated_triangulation_distances.csv\")"
   ]
  },
  {
   "cell_type": "code",
   "execution_count": 8,
   "metadata": {},
   "outputs": [],
   "source": [
    "import pandas as pd\n",
    "from scipy.stats import ranksums"
   ]
  },
  {
   "cell_type": "code",
   "execution_count": 9,
   "metadata": {},
   "outputs": [],
   "source": [
    "distance_threshold = 128\n",
    "compare_condition_column = \"tissue\""
   ]
  },
  {
   "cell_type": "code",
   "execution_count": 10,
   "metadata": {},
   "outputs": [
    {
     "name": "stderr",
     "output_type": "stream",
     "text": [
      "/var/folders/6d/0x48qjh15rx9851lpdwvrxvc0000gn/T/ipykernel_28408/2466451257.py:2: SettingWithCopyWarning: \n",
      "A value is trying to be set on a copy of a slice from a DataFrame\n",
      "\n",
      "See the caveats in the documentation: https://pandas.pydata.org/pandas-docs/stable/user_guide/indexing.html#returning-a-view-versus-a-copy\n",
      "  metadata.rename(columns={compare_condition_column: 'comparison'}, inplace=True)\n"
     ]
    }
   ],
   "source": [
    "# Rename column in metadata\n",
    "metadata.rename(columns={compare_condition_column: 'comparison'}, inplace=True)"
   ]
  },
  {
   "cell_type": "code",
   "execution_count": null,
   "metadata": {},
   "outputs": [],
   "source": [
    "triangulation_output"
   ]
  },
  {
   "cell_type": "code",
   "execution_count": 11,
   "metadata": {},
   "outputs": [],
   "source": [
    "# read in the triangulation distances\n",
    "triangulation_distances = pd.read_csv(triangulation_output+\"triangulation_distances.csv\", index_col=0)\n",
    "\n",
    "# read in the iterated triangulation distances\n",
    "iterated_triangulation_distances = pd.read_csv(triangulation_output+\"iterated_triangulation_distances.csv\", index_col=0)"
   ]
  },
  {
   "cell_type": "code",
   "execution_count": 12,
   "metadata": {},
   "outputs": [
    {
     "ename": "",
     "evalue": "",
     "output_type": "error",
     "traceback": [
      "\u001b[1;31mThe Kernel crashed while executing code in the the current cell or a previous cell. Please review the code in the cell(s) to identify a possible cause of the failure. Click <a href='https://aka.ms/vscodeJupyterKernelCrash'>here</a> for more info. View Jupyter <a href='command:jupyter.viewOutput'>log</a> for further details."
     ]
    }
   ],
   "source": [
    "# Reformat observed dataset\n",
    "observed_distances = triangulation_distances.merge(metadata, on='unique_region', how='left')\n",
    "observed_distances = observed_distances.loc[observed_distances['distance'] <= distance_threshold]\n",
    "observed_distances = observed_distances.groupby(['celltype1_index', 'celltype1', 'celltype2', 'comparison', 'unique_region']).agg(mean_per_cell=('distance', 'mean')).reset_index()\n",
    "observed_distances = observed_distances.groupby(['celltype1', 'celltype2', 'comparison']).agg(observed=('mean_per_cell', list), observed_mean=('mean_per_cell', 'mean')).reset_index()"
   ]
  },
  {
   "cell_type": "code",
   "execution_count": null,
   "metadata": {},
   "outputs": [],
   "source": [
    "\n",
    "\n",
    "\n",
    "\n",
    "\n",
    "# Reformat expected dataset\n",
    "expected_distances = (iterated_triangulation_distances\n",
    "                      .merge(metadata, on='unique_region', how='left')\n",
    "                      .loc[lambda df: df['mean_dist'] <= distance_threshold]\n",
    "                      .groupby(['celltype1', 'celltype2', 'comparison'])\n",
    "                      .agg(expected=('mean_dist', list),\n",
    "                           expected_mean=('mean_dist', 'mean'))\n",
    "                      .reset_index())\n",
    "\n",
    "# Drop comparisons with low numbers of observations for observed distances\n",
    "observed_distances['keep'] = observed_distances['observed'].apply(lambda x: len(x) > 10)\n",
    "observed_distances = observed_distances[observed_distances['keep']]\n",
    "\n",
    "# Drop comparisons with low numbers of observations for expected distances\n",
    "expected_distances['keep'] = expected_distances['expected'].apply(lambda x: len(x) > 10)\n",
    "expected_distances = expected_distances[expected_distances['keep']]\n",
    "\n",
    "# Calculate p-values and log fold differences\n",
    "distance_pvals = (expected_distances\n",
    "                  .merge(observed_distances, on=['celltype1', 'celltype2', 'comparison'], how='left')\n",
    "                  .assign(pvalue=lambda df: ranksums(df['expected'], df['observed']).pvalue,\n",
    "                          logfold_group=lambda df: (df['observed_mean'] / df['expected_mean']).apply(np.log2),\n",
    "                          interaction=lambda df: df['celltype1'] + \" --> \" + df['celltype2'])\n",
    "                  .drop(columns=['observed', 'expected']))\n",
    "\n",
    "# Get order of plot by magnitude of logfold differences between groups\n",
    "intermed = distance_pvals.pivot(index='interaction', columns='comparison', values='logfold_group')\n",
    "intermed['difference'] = intermed[condition_2] - intermed[condition_1]\n",
    "ord = intermed.dropna(subset=['difference']).sort_values(by=[condition_1]).index\n",
    "\n",
    "# Assign interaction order\n",
    "distance_pvals['interaction'] = pd.Categorical(distance_pvals['interaction'], categories=ord)\n",
    "\n",
    "# Save distance_pvals to CSV\n",
    "distance_pvals.to_csv(f\"{specific_output}/distance_pvals.csv\", index=False)\n",
    "\n",
    "\n"
   ]
  },
  {
   "cell_type": "code",
   "execution_count": null,
   "metadata": {},
   "outputs": [],
   "source": [
    "# General filtering before analysis of the results\n",
    "distance_pvals_sig = (distance_pvals\n",
    "                      .loc[lambda df: (df['pvalue'] < 0.05) & \n",
    "                                      (~df['observed_mean'].isna()) & \n",
    "                                      (df['celltype1'] != \"unknown\") & \n",
    "                                      (df['celltype2'] != \"unknown\") & \n",
    "                                      (df['celltype1'] != \"noise\") & \n",
    "                                      (df['celltype2'] != \"noise\") & \n",
    "                                      (~df['comparison'].isna())])"
   ]
  }
 ],
 "metadata": {
  "kernelspec": {
   "display_name": "spatial_analysis_environment",
   "language": "python",
   "name": "python3"
  },
  "language_info": {
   "codemirror_mode": {
    "name": "ipython",
    "version": 3
   },
   "file_extension": ".py",
   "mimetype": "text/x-python",
   "name": "python",
   "nbconvert_exporter": "python",
   "pygments_lexer": "ipython3",
   "version": "3.10.12"
  }
 },
 "nbformat": 4,
 "nbformat_minor": 2
}
